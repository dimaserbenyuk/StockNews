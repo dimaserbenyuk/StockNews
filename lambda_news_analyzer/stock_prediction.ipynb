{
 "cells": [
  {
   "cell_type": "markdown",
   "metadata": {},
   "source": [
    "Установка необходимых библиотек"
   ]
  },
  {
   "cell_type": "code",
   "execution_count": 2,
   "metadata": {
    "vscode": {
     "languageId": "shellscript"
    }
   },
   "outputs": [
    {
     "name": "stdout",
     "output_type": "stream",
     "text": [
      "Requirement already satisfied: boto3 in /Users/dima/StockNews/venv/lib/python3.12/site-packages (1.35.33)\n",
      "Requirement already satisfied: botocore<1.36.0,>=1.35.33 in /Users/dima/StockNews/venv/lib/python3.12/site-packages (from boto3) (1.35.33)\n",
      "Requirement already satisfied: jmespath<2.0.0,>=0.7.1 in /Users/dima/StockNews/venv/lib/python3.12/site-packages (from boto3) (1.0.1)\n",
      "Requirement already satisfied: s3transfer<0.11.0,>=0.10.0 in /Users/dima/StockNews/venv/lib/python3.12/site-packages (from boto3) (0.10.2)\n",
      "Requirement already satisfied: python-dateutil<3.0.0,>=2.1 in /Users/dima/StockNews/venv/lib/python3.12/site-packages (from botocore<1.36.0,>=1.35.33->boto3) (2.9.0.post0)\n",
      "Requirement already satisfied: urllib3!=2.2.0,<3,>=1.25.4 in /Users/dima/StockNews/venv/lib/python3.12/site-packages (from botocore<1.36.0,>=1.35.33->boto3) (2.2.3)\n",
      "Requirement already satisfied: six>=1.5 in /Users/dima/StockNews/venv/lib/python3.12/site-packages (from python-dateutil<3.0.0,>=2.1->botocore<1.36.0,>=1.35.33->boto3) (1.16.0)\n",
      "Note: you may need to restart the kernel to use updated packages.\n",
      "Requirement already satisfied: python-dotenv in /Users/dima/StockNews/venv/lib/python3.12/site-packages (1.0.1)\n",
      "Note: you may need to restart the kernel to use updated packages.\n",
      "Requirement already satisfied: newsapi-python in /Users/dima/StockNews/venv/lib/python3.12/site-packages (0.2.7)\n",
      "Requirement already satisfied: requests<3.0.0 in /Users/dima/StockNews/venv/lib/python3.12/site-packages (from newsapi-python) (2.32.3)\n",
      "Requirement already satisfied: charset-normalizer<4,>=2 in /Users/dima/StockNews/venv/lib/python3.12/site-packages (from requests<3.0.0->newsapi-python) (3.3.2)\n",
      "Requirement already satisfied: idna<4,>=2.5 in /Users/dima/StockNews/venv/lib/python3.12/site-packages (from requests<3.0.0->newsapi-python) (3.10)\n",
      "Requirement already satisfied: urllib3<3,>=1.21.1 in /Users/dima/StockNews/venv/lib/python3.12/site-packages (from requests<3.0.0->newsapi-python) (2.2.3)\n",
      "Requirement already satisfied: certifi>=2017.4.17 in /Users/dima/StockNews/venv/lib/python3.12/site-packages (from requests<3.0.0->newsapi-python) (2024.8.30)\n",
      "Note: you may need to restart the kernel to use updated packages.\n",
      "Requirement already satisfied: textblob in /Users/dima/StockNews/venv/lib/python3.12/site-packages (0.18.0.post0)\n",
      "Requirement already satisfied: nltk>=3.8 in /Users/dima/StockNews/venv/lib/python3.12/site-packages (from textblob) (3.9.1)\n",
      "Requirement already satisfied: click in /Users/dima/StockNews/venv/lib/python3.12/site-packages (from nltk>=3.8->textblob) (8.1.7)\n",
      "Requirement already satisfied: joblib in /Users/dima/StockNews/venv/lib/python3.12/site-packages (from nltk>=3.8->textblob) (1.4.2)\n",
      "Requirement already satisfied: regex>=2021.8.3 in /Users/dima/StockNews/venv/lib/python3.12/site-packages (from nltk>=3.8->textblob) (2024.9.11)\n",
      "Requirement already satisfied: tqdm in /Users/dima/StockNews/venv/lib/python3.12/site-packages (from nltk>=3.8->textblob) (4.66.5)\n",
      "Note: you may need to restart the kernel to use updated packages.\n",
      "Requirement already satisfied: vaderSentiment in /Users/dima/StockNews/venv/lib/python3.12/site-packages (3.3.2)\n",
      "Requirement already satisfied: requests in /Users/dima/StockNews/venv/lib/python3.12/site-packages (from vaderSentiment) (2.32.3)\n",
      "Requirement already satisfied: charset-normalizer<4,>=2 in /Users/dima/StockNews/venv/lib/python3.12/site-packages (from requests->vaderSentiment) (3.3.2)\n",
      "Requirement already satisfied: idna<4,>=2.5 in /Users/dima/StockNews/venv/lib/python3.12/site-packages (from requests->vaderSentiment) (3.10)\n",
      "Requirement already satisfied: urllib3<3,>=1.21.1 in /Users/dima/StockNews/venv/lib/python3.12/site-packages (from requests->vaderSentiment) (2.2.3)\n",
      "Requirement already satisfied: certifi>=2017.4.17 in /Users/dima/StockNews/venv/lib/python3.12/site-packages (from requests->vaderSentiment) (2024.8.30)\n",
      "Note: you may need to restart the kernel to use updated packages.\n",
      "Requirement already satisfied: spacy in /Users/dima/StockNews/venv/lib/python3.12/site-packages (3.8.2)\n",
      "Requirement already satisfied: spacy-legacy<3.1.0,>=3.0.11 in /Users/dima/StockNews/venv/lib/python3.12/site-packages (from spacy) (3.0.12)\n",
      "Requirement already satisfied: spacy-loggers<2.0.0,>=1.0.0 in /Users/dima/StockNews/venv/lib/python3.12/site-packages (from spacy) (1.0.5)\n",
      "Requirement already satisfied: murmurhash<1.1.0,>=0.28.0 in /Users/dima/StockNews/venv/lib/python3.12/site-packages (from spacy) (1.0.10)\n",
      "Requirement already satisfied: cymem<2.1.0,>=2.0.2 in /Users/dima/StockNews/venv/lib/python3.12/site-packages (from spacy) (2.0.8)\n",
      "Requirement already satisfied: preshed<3.1.0,>=3.0.2 in /Users/dima/StockNews/venv/lib/python3.12/site-packages (from spacy) (3.0.9)\n",
      "Requirement already satisfied: thinc<8.4.0,>=8.3.0 in /Users/dima/StockNews/venv/lib/python3.12/site-packages (from spacy) (8.3.2)\n",
      "Requirement already satisfied: wasabi<1.2.0,>=0.9.1 in /Users/dima/StockNews/venv/lib/python3.12/site-packages (from spacy) (1.1.3)\n",
      "Requirement already satisfied: srsly<3.0.0,>=2.4.3 in /Users/dima/StockNews/venv/lib/python3.12/site-packages (from spacy) (2.4.8)\n",
      "Requirement already satisfied: catalogue<2.1.0,>=2.0.6 in /Users/dima/StockNews/venv/lib/python3.12/site-packages (from spacy) (2.0.10)\n",
      "Requirement already satisfied: weasel<0.5.0,>=0.1.0 in /Users/dima/StockNews/venv/lib/python3.12/site-packages (from spacy) (0.4.1)\n",
      "Requirement already satisfied: typer<1.0.0,>=0.3.0 in /Users/dima/StockNews/venv/lib/python3.12/site-packages (from spacy) (0.12.5)\n",
      "Requirement already satisfied: tqdm<5.0.0,>=4.38.0 in /Users/dima/StockNews/venv/lib/python3.12/site-packages (from spacy) (4.66.5)\n",
      "Requirement already satisfied: requests<3.0.0,>=2.13.0 in /Users/dima/StockNews/venv/lib/python3.12/site-packages (from spacy) (2.32.3)\n",
      "Requirement already satisfied: pydantic!=1.8,!=1.8.1,<3.0.0,>=1.7.4 in /Users/dima/StockNews/venv/lib/python3.12/site-packages (from spacy) (2.9.2)\n",
      "Requirement already satisfied: jinja2 in /Users/dima/StockNews/venv/lib/python3.12/site-packages (from spacy) (3.1.4)\n",
      "Requirement already satisfied: setuptools in /Users/dima/StockNews/venv/lib/python3.12/site-packages (from spacy) (75.1.0)\n",
      "Requirement already satisfied: packaging>=20.0 in /Users/dima/StockNews/venv/lib/python3.12/site-packages (from spacy) (24.1)\n",
      "Requirement already satisfied: langcodes<4.0.0,>=3.2.0 in /Users/dima/StockNews/venv/lib/python3.12/site-packages (from spacy) (3.4.1)\n",
      "Requirement already satisfied: numpy>=1.19.0 in /Users/dima/StockNews/venv/lib/python3.12/site-packages (from spacy) (2.0.2)\n",
      "Requirement already satisfied: language-data>=1.2 in /Users/dima/StockNews/venv/lib/python3.12/site-packages (from langcodes<4.0.0,>=3.2.0->spacy) (1.2.0)\n",
      "Requirement already satisfied: annotated-types>=0.6.0 in /Users/dima/StockNews/venv/lib/python3.12/site-packages (from pydantic!=1.8,!=1.8.1,<3.0.0,>=1.7.4->spacy) (0.7.0)\n",
      "Requirement already satisfied: pydantic-core==2.23.4 in /Users/dima/StockNews/venv/lib/python3.12/site-packages (from pydantic!=1.8,!=1.8.1,<3.0.0,>=1.7.4->spacy) (2.23.4)\n",
      "Requirement already satisfied: typing-extensions>=4.6.1 in /Users/dima/StockNews/venv/lib/python3.12/site-packages (from pydantic!=1.8,!=1.8.1,<3.0.0,>=1.7.4->spacy) (4.12.2)\n",
      "Requirement already satisfied: charset-normalizer<4,>=2 in /Users/dima/StockNews/venv/lib/python3.12/site-packages (from requests<3.0.0,>=2.13.0->spacy) (3.3.2)\n",
      "Requirement already satisfied: idna<4,>=2.5 in /Users/dima/StockNews/venv/lib/python3.12/site-packages (from requests<3.0.0,>=2.13.0->spacy) (3.10)\n",
      "Requirement already satisfied: urllib3<3,>=1.21.1 in /Users/dima/StockNews/venv/lib/python3.12/site-packages (from requests<3.0.0,>=2.13.0->spacy) (2.2.3)\n",
      "Requirement already satisfied: certifi>=2017.4.17 in /Users/dima/StockNews/venv/lib/python3.12/site-packages (from requests<3.0.0,>=2.13.0->spacy) (2024.8.30)\n",
      "Requirement already satisfied: blis<1.1.0,>=1.0.0 in /Users/dima/StockNews/venv/lib/python3.12/site-packages (from thinc<8.4.0,>=8.3.0->spacy) (1.0.1)\n",
      "Requirement already satisfied: confection<1.0.0,>=0.0.1 in /Users/dima/StockNews/venv/lib/python3.12/site-packages (from thinc<8.4.0,>=8.3.0->spacy) (0.1.5)\n",
      "Requirement already satisfied: click>=8.0.0 in /Users/dima/StockNews/venv/lib/python3.12/site-packages (from typer<1.0.0,>=0.3.0->spacy) (8.1.7)\n",
      "Requirement already satisfied: shellingham>=1.3.0 in /Users/dima/StockNews/venv/lib/python3.12/site-packages (from typer<1.0.0,>=0.3.0->spacy) (1.5.4)\n",
      "Requirement already satisfied: rich>=10.11.0 in /Users/dima/StockNews/venv/lib/python3.12/site-packages (from typer<1.0.0,>=0.3.0->spacy) (13.9.2)\n",
      "Requirement already satisfied: cloudpathlib<1.0.0,>=0.7.0 in /Users/dima/StockNews/venv/lib/python3.12/site-packages (from weasel<0.5.0,>=0.1.0->spacy) (0.19.0)\n",
      "Requirement already satisfied: smart-open<8.0.0,>=5.2.1 in /Users/dima/StockNews/venv/lib/python3.12/site-packages (from weasel<0.5.0,>=0.1.0->spacy) (7.0.5)\n",
      "Requirement already satisfied: MarkupSafe>=2.0 in /Users/dima/StockNews/venv/lib/python3.12/site-packages (from jinja2->spacy) (2.1.5)\n",
      "Requirement already satisfied: marisa-trie>=0.7.7 in /Users/dima/StockNews/venv/lib/python3.12/site-packages (from language-data>=1.2->langcodes<4.0.0,>=3.2.0->spacy) (1.2.0)\n",
      "Requirement already satisfied: markdown-it-py>=2.2.0 in /Users/dima/StockNews/venv/lib/python3.12/site-packages (from rich>=10.11.0->typer<1.0.0,>=0.3.0->spacy) (3.0.0)\n",
      "Requirement already satisfied: pygments<3.0.0,>=2.13.0 in /Users/dima/StockNews/venv/lib/python3.12/site-packages (from rich>=10.11.0->typer<1.0.0,>=0.3.0->spacy) (2.18.0)\n",
      "Requirement already satisfied: wrapt in /Users/dima/StockNews/venv/lib/python3.12/site-packages (from smart-open<8.0.0,>=5.2.1->weasel<0.5.0,>=0.1.0->spacy) (1.16.0)\n",
      "Requirement already satisfied: mdurl~=0.1 in /Users/dima/StockNews/venv/lib/python3.12/site-packages (from markdown-it-py>=2.2.0->rich>=10.11.0->typer<1.0.0,>=0.3.0->spacy) (0.1.2)\n",
      "Note: you may need to restart the kernel to use updated packages.\n",
      "Requirement already satisfied: fuzzywuzzy in /Users/dima/StockNews/venv/lib/python3.12/site-packages (0.18.0)\n",
      "Note: you may need to restart the kernel to use updated packages.\n",
      "Requirement already satisfied: python-Levenshtein in /Users/dima/StockNews/venv/lib/python3.12/site-packages (0.26.0)\n",
      "Requirement already satisfied: Levenshtein==0.26.0 in /Users/dima/StockNews/venv/lib/python3.12/site-packages (from python-Levenshtein) (0.26.0)\n",
      "Requirement already satisfied: rapidfuzz<4.0.0,>=3.9.0 in /Users/dima/StockNews/venv/lib/python3.12/site-packages (from Levenshtein==0.26.0->python-Levenshtein) (3.10.0)\n",
      "Note: you may need to restart the kernel to use updated packages.\n",
      "Requirement already satisfied: yfinance in /Users/dima/StockNews/venv/lib/python3.12/site-packages (0.2.44)\n",
      "Requirement already satisfied: pandas>=1.3.0 in /Users/dima/StockNews/venv/lib/python3.12/site-packages (from yfinance) (2.2.3)\n",
      "Requirement already satisfied: numpy>=1.16.5 in /Users/dima/StockNews/venv/lib/python3.12/site-packages (from yfinance) (2.0.2)\n",
      "Requirement already satisfied: requests>=2.31 in /Users/dima/StockNews/venv/lib/python3.12/site-packages (from yfinance) (2.32.3)\n",
      "Requirement already satisfied: multitasking>=0.0.7 in /Users/dima/StockNews/venv/lib/python3.12/site-packages (from yfinance) (0.0.11)\n",
      "Requirement already satisfied: lxml>=4.9.1 in /Users/dima/StockNews/venv/lib/python3.12/site-packages (from yfinance) (5.3.0)\n",
      "Requirement already satisfied: platformdirs>=2.0.0 in /Users/dima/StockNews/venv/lib/python3.12/site-packages (from yfinance) (4.3.6)\n",
      "Requirement already satisfied: pytz>=2022.5 in /Users/dima/StockNews/venv/lib/python3.12/site-packages (from yfinance) (2024.2)\n",
      "Requirement already satisfied: frozendict>=2.3.4 in /Users/dima/StockNews/venv/lib/python3.12/site-packages (from yfinance) (2.4.4)\n",
      "Requirement already satisfied: peewee>=3.16.2 in /Users/dima/StockNews/venv/lib/python3.12/site-packages (from yfinance) (3.17.6)\n",
      "Requirement already satisfied: beautifulsoup4>=4.11.1 in /Users/dima/StockNews/venv/lib/python3.12/site-packages (from yfinance) (4.12.3)\n",
      "Requirement already satisfied: html5lib>=1.1 in /Users/dima/StockNews/venv/lib/python3.12/site-packages (from yfinance) (1.1)\n",
      "Requirement already satisfied: soupsieve>1.2 in /Users/dima/StockNews/venv/lib/python3.12/site-packages (from beautifulsoup4>=4.11.1->yfinance) (2.6)\n",
      "Requirement already satisfied: six>=1.9 in /Users/dima/StockNews/venv/lib/python3.12/site-packages (from html5lib>=1.1->yfinance) (1.16.0)\n",
      "Requirement already satisfied: webencodings in /Users/dima/StockNews/venv/lib/python3.12/site-packages (from html5lib>=1.1->yfinance) (0.5.1)\n",
      "Requirement already satisfied: python-dateutil>=2.8.2 in /Users/dima/StockNews/venv/lib/python3.12/site-packages (from pandas>=1.3.0->yfinance) (2.9.0.post0)\n",
      "Requirement already satisfied: tzdata>=2022.7 in /Users/dima/StockNews/venv/lib/python3.12/site-packages (from pandas>=1.3.0->yfinance) (2024.2)\n",
      "Requirement already satisfied: charset-normalizer<4,>=2 in /Users/dima/StockNews/venv/lib/python3.12/site-packages (from requests>=2.31->yfinance) (3.3.2)\n",
      "Requirement already satisfied: idna<4,>=2.5 in /Users/dima/StockNews/venv/lib/python3.12/site-packages (from requests>=2.31->yfinance) (3.10)\n",
      "Requirement already satisfied: urllib3<3,>=1.21.1 in /Users/dima/StockNews/venv/lib/python3.12/site-packages (from requests>=2.31->yfinance) (2.2.3)\n",
      "Requirement already satisfied: certifi>=2017.4.17 in /Users/dima/StockNews/venv/lib/python3.12/site-packages (from requests>=2.31->yfinance) (2024.8.30)\n",
      "Note: you may need to restart the kernel to use updated packages.\n",
      "Requirement already satisfied: joblib in /Users/dima/StockNews/venv/lib/python3.12/site-packages (1.4.2)\n",
      "Note: you may need to restart the kernel to use updated packages.\n",
      "Requirement already satisfied: torch in /Users/dima/StockNews/venv/lib/python3.12/site-packages (2.4.1)\n",
      "Requirement already satisfied: torchvision in /Users/dima/StockNews/venv/lib/python3.12/site-packages (0.19.1)\n",
      "Requirement already satisfied: torchaudio in /Users/dima/StockNews/venv/lib/python3.12/site-packages (2.4.1)\n",
      "Requirement already satisfied: filelock in /Users/dima/StockNews/venv/lib/python3.12/site-packages (from torch) (3.16.1)\n",
      "Requirement already satisfied: typing-extensions>=4.8.0 in /Users/dima/StockNews/venv/lib/python3.12/site-packages (from torch) (4.12.2)\n",
      "Requirement already satisfied: sympy in /Users/dima/StockNews/venv/lib/python3.12/site-packages (from torch) (1.13.3)\n",
      "Requirement already satisfied: networkx in /Users/dima/StockNews/venv/lib/python3.12/site-packages (from torch) (3.3)\n",
      "Requirement already satisfied: jinja2 in /Users/dima/StockNews/venv/lib/python3.12/site-packages (from torch) (3.1.4)\n",
      "Requirement already satisfied: fsspec in /Users/dima/StockNews/venv/lib/python3.12/site-packages (from torch) (2024.9.0)\n",
      "Requirement already satisfied: setuptools in /Users/dima/StockNews/venv/lib/python3.12/site-packages (from torch) (75.1.0)\n",
      "Requirement already satisfied: numpy in /Users/dima/StockNews/venv/lib/python3.12/site-packages (from torchvision) (2.0.2)\n",
      "Requirement already satisfied: pillow!=8.3.*,>=5.3.0 in /Users/dima/StockNews/venv/lib/python3.12/site-packages (from torchvision) (10.4.0)\n",
      "Requirement already satisfied: MarkupSafe>=2.0 in /Users/dima/StockNews/venv/lib/python3.12/site-packages (from jinja2->torch) (2.1.5)\n",
      "Requirement already satisfied: mpmath<1.4,>=1.1.0 in /Users/dima/StockNews/venv/lib/python3.12/site-packages (from sympy->torch) (1.3.0)\n",
      "Note: you may need to restart the kernel to use updated packages.\n",
      "Requirement already satisfied: torch in /Users/dima/StockNews/venv/lib/python3.12/site-packages (2.4.1)\n",
      "Requirement already satisfied: filelock in /Users/dima/StockNews/venv/lib/python3.12/site-packages (from torch) (3.16.1)\n",
      "Requirement already satisfied: typing-extensions>=4.8.0 in /Users/dima/StockNews/venv/lib/python3.12/site-packages (from torch) (4.12.2)\n",
      "Requirement already satisfied: sympy in /Users/dima/StockNews/venv/lib/python3.12/site-packages (from torch) (1.13.3)\n",
      "Requirement already satisfied: networkx in /Users/dima/StockNews/venv/lib/python3.12/site-packages (from torch) (3.3)\n",
      "Requirement already satisfied: jinja2 in /Users/dima/StockNews/venv/lib/python3.12/site-packages (from torch) (3.1.4)\n",
      "Requirement already satisfied: fsspec in /Users/dima/StockNews/venv/lib/python3.12/site-packages (from torch) (2024.9.0)\n",
      "Requirement already satisfied: setuptools in /Users/dima/StockNews/venv/lib/python3.12/site-packages (from torch) (75.1.0)\n",
      "Requirement already satisfied: MarkupSafe>=2.0 in /Users/dima/StockNews/venv/lib/python3.12/site-packages (from jinja2->torch) (2.1.5)\n",
      "Requirement already satisfied: mpmath<1.4,>=1.1.0 in /Users/dima/StockNews/venv/lib/python3.12/site-packages (from sympy->torch) (1.3.0)\n",
      "Note: you may need to restart the kernel to use updated packages.\n",
      "Requirement already satisfied: jupyter in /Users/dima/StockNews/venv/lib/python3.12/site-packages (1.1.1)\n",
      "Requirement already satisfied: notebook in /Users/dima/StockNews/venv/lib/python3.12/site-packages (from jupyter) (7.2.2)\n",
      "Requirement already satisfied: jupyter-console in /Users/dima/StockNews/venv/lib/python3.12/site-packages (from jupyter) (6.6.3)\n",
      "Requirement already satisfied: nbconvert in /Users/dima/StockNews/venv/lib/python3.12/site-packages (from jupyter) (7.16.4)\n",
      "Requirement already satisfied: ipykernel in /Users/dima/StockNews/venv/lib/python3.12/site-packages (from jupyter) (6.29.5)\n",
      "Requirement already satisfied: ipywidgets in /Users/dima/StockNews/venv/lib/python3.12/site-packages (from jupyter) (8.1.5)\n",
      "Requirement already satisfied: jupyterlab in /Users/dima/StockNews/venv/lib/python3.12/site-packages (from jupyter) (4.2.5)\n",
      "Requirement already satisfied: appnope in /Users/dima/StockNews/venv/lib/python3.12/site-packages (from ipykernel->jupyter) (0.1.4)\n",
      "Requirement already satisfied: comm>=0.1.1 in /Users/dima/StockNews/venv/lib/python3.12/site-packages (from ipykernel->jupyter) (0.2.2)\n",
      "Requirement already satisfied: debugpy>=1.6.5 in /Users/dima/StockNews/venv/lib/python3.12/site-packages (from ipykernel->jupyter) (1.8.6)\n",
      "Requirement already satisfied: ipython>=7.23.1 in /Users/dima/StockNews/venv/lib/python3.12/site-packages (from ipykernel->jupyter) (8.28.0)\n",
      "Requirement already satisfied: jupyter-client>=6.1.12 in /Users/dima/StockNews/venv/lib/python3.12/site-packages (from ipykernel->jupyter) (8.6.3)\n",
      "Requirement already satisfied: jupyter-core!=5.0.*,>=4.12 in /Users/dima/StockNews/venv/lib/python3.12/site-packages (from ipykernel->jupyter) (5.7.2)\n",
      "Requirement already satisfied: matplotlib-inline>=0.1 in /Users/dima/StockNews/venv/lib/python3.12/site-packages (from ipykernel->jupyter) (0.1.7)\n",
      "Requirement already satisfied: nest-asyncio in /Users/dima/StockNews/venv/lib/python3.12/site-packages (from ipykernel->jupyter) (1.6.0)\n",
      "Requirement already satisfied: packaging in /Users/dima/StockNews/venv/lib/python3.12/site-packages (from ipykernel->jupyter) (24.1)\n",
      "Requirement already satisfied: psutil in /Users/dima/StockNews/venv/lib/python3.12/site-packages (from ipykernel->jupyter) (6.0.0)\n",
      "Requirement already satisfied: pyzmq>=24 in /Users/dima/StockNews/venv/lib/python3.12/site-packages (from ipykernel->jupyter) (26.2.0)\n",
      "Requirement already satisfied: tornado>=6.1 in /Users/dima/StockNews/venv/lib/python3.12/site-packages (from ipykernel->jupyter) (6.4.1)\n",
      "Requirement already satisfied: traitlets>=5.4.0 in /Users/dima/StockNews/venv/lib/python3.12/site-packages (from ipykernel->jupyter) (5.14.3)\n",
      "Requirement already satisfied: widgetsnbextension~=4.0.12 in /Users/dima/StockNews/venv/lib/python3.12/site-packages (from ipywidgets->jupyter) (4.0.13)\n",
      "Requirement already satisfied: jupyterlab-widgets~=3.0.12 in /Users/dima/StockNews/venv/lib/python3.12/site-packages (from ipywidgets->jupyter) (3.0.13)\n",
      "Requirement already satisfied: prompt-toolkit>=3.0.30 in /Users/dima/StockNews/venv/lib/python3.12/site-packages (from jupyter-console->jupyter) (3.0.48)\n",
      "Requirement already satisfied: pygments in /Users/dima/StockNews/venv/lib/python3.12/site-packages (from jupyter-console->jupyter) (2.18.0)\n",
      "Requirement already satisfied: async-lru>=1.0.0 in /Users/dima/StockNews/venv/lib/python3.12/site-packages (from jupyterlab->jupyter) (2.0.4)\n",
      "Requirement already satisfied: httpx>=0.25.0 in /Users/dima/StockNews/venv/lib/python3.12/site-packages (from jupyterlab->jupyter) (0.27.2)\n",
      "Requirement already satisfied: jinja2>=3.0.3 in /Users/dima/StockNews/venv/lib/python3.12/site-packages (from jupyterlab->jupyter) (3.1.4)\n",
      "Requirement already satisfied: jupyter-lsp>=2.0.0 in /Users/dima/StockNews/venv/lib/python3.12/site-packages (from jupyterlab->jupyter) (2.2.5)\n",
      "Requirement already satisfied: jupyter-server<3,>=2.4.0 in /Users/dima/StockNews/venv/lib/python3.12/site-packages (from jupyterlab->jupyter) (2.14.2)\n",
      "Requirement already satisfied: jupyterlab-server<3,>=2.27.1 in /Users/dima/StockNews/venv/lib/python3.12/site-packages (from jupyterlab->jupyter) (2.27.3)\n",
      "Requirement already satisfied: notebook-shim>=0.2 in /Users/dima/StockNews/venv/lib/python3.12/site-packages (from jupyterlab->jupyter) (0.2.4)\n",
      "Requirement already satisfied: setuptools>=40.1.0 in /Users/dima/StockNews/venv/lib/python3.12/site-packages (from jupyterlab->jupyter) (75.1.0)\n",
      "Requirement already satisfied: beautifulsoup4 in /Users/dima/StockNews/venv/lib/python3.12/site-packages (from nbconvert->jupyter) (4.12.3)\n",
      "Requirement already satisfied: bleach!=5.0.0 in /Users/dima/StockNews/venv/lib/python3.12/site-packages (from nbconvert->jupyter) (6.1.0)\n",
      "Requirement already satisfied: defusedxml in /Users/dima/StockNews/venv/lib/python3.12/site-packages (from nbconvert->jupyter) (0.7.1)\n",
      "Requirement already satisfied: jupyterlab-pygments in /Users/dima/StockNews/venv/lib/python3.12/site-packages (from nbconvert->jupyter) (0.3.0)\n",
      "Requirement already satisfied: markupsafe>=2.0 in /Users/dima/StockNews/venv/lib/python3.12/site-packages (from nbconvert->jupyter) (2.1.5)\n",
      "Requirement already satisfied: mistune<4,>=2.0.3 in /Users/dima/StockNews/venv/lib/python3.12/site-packages (from nbconvert->jupyter) (3.0.2)\n",
      "Requirement already satisfied: nbclient>=0.5.0 in /Users/dima/StockNews/venv/lib/python3.12/site-packages (from nbconvert->jupyter) (0.10.0)\n",
      "Requirement already satisfied: nbformat>=5.7 in /Users/dima/StockNews/venv/lib/python3.12/site-packages (from nbconvert->jupyter) (5.10.4)\n",
      "Requirement already satisfied: pandocfilters>=1.4.1 in /Users/dima/StockNews/venv/lib/python3.12/site-packages (from nbconvert->jupyter) (1.5.1)\n",
      "Requirement already satisfied: tinycss2 in /Users/dima/StockNews/venv/lib/python3.12/site-packages (from nbconvert->jupyter) (1.3.0)\n",
      "Requirement already satisfied: six>=1.9.0 in /Users/dima/StockNews/venv/lib/python3.12/site-packages (from bleach!=5.0.0->nbconvert->jupyter) (1.16.0)\n",
      "Requirement already satisfied: webencodings in /Users/dima/StockNews/venv/lib/python3.12/site-packages (from bleach!=5.0.0->nbconvert->jupyter) (0.5.1)\n",
      "Requirement already satisfied: anyio in /Users/dima/StockNews/venv/lib/python3.12/site-packages (from httpx>=0.25.0->jupyterlab->jupyter) (4.6.0)\n",
      "Requirement already satisfied: certifi in /Users/dima/StockNews/venv/lib/python3.12/site-packages (from httpx>=0.25.0->jupyterlab->jupyter) (2024.8.30)\n",
      "Requirement already satisfied: httpcore==1.* in /Users/dima/StockNews/venv/lib/python3.12/site-packages (from httpx>=0.25.0->jupyterlab->jupyter) (1.0.6)\n",
      "Requirement already satisfied: idna in /Users/dima/StockNews/venv/lib/python3.12/site-packages (from httpx>=0.25.0->jupyterlab->jupyter) (3.10)\n",
      "Requirement already satisfied: sniffio in /Users/dima/StockNews/venv/lib/python3.12/site-packages (from httpx>=0.25.0->jupyterlab->jupyter) (1.3.1)\n",
      "Requirement already satisfied: h11<0.15,>=0.13 in /Users/dima/StockNews/venv/lib/python3.12/site-packages (from httpcore==1.*->httpx>=0.25.0->jupyterlab->jupyter) (0.14.0)\n",
      "Requirement already satisfied: decorator in /Users/dima/StockNews/venv/lib/python3.12/site-packages (from ipython>=7.23.1->ipykernel->jupyter) (5.1.1)\n",
      "Requirement already satisfied: jedi>=0.16 in /Users/dima/StockNews/venv/lib/python3.12/site-packages (from ipython>=7.23.1->ipykernel->jupyter) (0.19.1)\n",
      "Requirement already satisfied: stack-data in /Users/dima/StockNews/venv/lib/python3.12/site-packages (from ipython>=7.23.1->ipykernel->jupyter) (0.6.3)\n",
      "Requirement already satisfied: pexpect>4.3 in /Users/dima/StockNews/venv/lib/python3.12/site-packages (from ipython>=7.23.1->ipykernel->jupyter) (4.9.0)\n",
      "Requirement already satisfied: python-dateutil>=2.8.2 in /Users/dima/StockNews/venv/lib/python3.12/site-packages (from jupyter-client>=6.1.12->ipykernel->jupyter) (2.9.0.post0)\n",
      "Requirement already satisfied: platformdirs>=2.5 in /Users/dima/StockNews/venv/lib/python3.12/site-packages (from jupyter-core!=5.0.*,>=4.12->ipykernel->jupyter) (4.3.6)\n",
      "Requirement already satisfied: argon2-cffi>=21.1 in /Users/dima/StockNews/venv/lib/python3.12/site-packages (from jupyter-server<3,>=2.4.0->jupyterlab->jupyter) (23.1.0)\n",
      "Requirement already satisfied: jupyter-events>=0.9.0 in /Users/dima/StockNews/venv/lib/python3.12/site-packages (from jupyter-server<3,>=2.4.0->jupyterlab->jupyter) (0.10.0)\n",
      "Requirement already satisfied: jupyter-server-terminals>=0.4.4 in /Users/dima/StockNews/venv/lib/python3.12/site-packages (from jupyter-server<3,>=2.4.0->jupyterlab->jupyter) (0.5.3)\n",
      "Requirement already satisfied: overrides>=5.0 in /Users/dima/StockNews/venv/lib/python3.12/site-packages (from jupyter-server<3,>=2.4.0->jupyterlab->jupyter) (7.7.0)\n",
      "Requirement already satisfied: prometheus-client>=0.9 in /Users/dima/StockNews/venv/lib/python3.12/site-packages (from jupyter-server<3,>=2.4.0->jupyterlab->jupyter) (0.21.0)\n",
      "Requirement already satisfied: send2trash>=1.8.2 in /Users/dima/StockNews/venv/lib/python3.12/site-packages (from jupyter-server<3,>=2.4.0->jupyterlab->jupyter) (1.8.3)\n",
      "Requirement already satisfied: terminado>=0.8.3 in /Users/dima/StockNews/venv/lib/python3.12/site-packages (from jupyter-server<3,>=2.4.0->jupyterlab->jupyter) (0.18.1)\n",
      "Requirement already satisfied: websocket-client>=1.7 in /Users/dima/StockNews/venv/lib/python3.12/site-packages (from jupyter-server<3,>=2.4.0->jupyterlab->jupyter) (1.8.0)\n",
      "Requirement already satisfied: babel>=2.10 in /Users/dima/StockNews/venv/lib/python3.12/site-packages (from jupyterlab-server<3,>=2.27.1->jupyterlab->jupyter) (2.16.0)\n",
      "Requirement already satisfied: json5>=0.9.0 in /Users/dima/StockNews/venv/lib/python3.12/site-packages (from jupyterlab-server<3,>=2.27.1->jupyterlab->jupyter) (0.9.25)\n",
      "Requirement already satisfied: jsonschema>=4.18.0 in /Users/dima/StockNews/venv/lib/python3.12/site-packages (from jupyterlab-server<3,>=2.27.1->jupyterlab->jupyter) (4.23.0)\n",
      "Requirement already satisfied: requests>=2.31 in /Users/dima/StockNews/venv/lib/python3.12/site-packages (from jupyterlab-server<3,>=2.27.1->jupyterlab->jupyter) (2.32.3)\n",
      "Requirement already satisfied: fastjsonschema>=2.15 in /Users/dima/StockNews/venv/lib/python3.12/site-packages (from nbformat>=5.7->nbconvert->jupyter) (2.20.0)\n",
      "Requirement already satisfied: wcwidth in /Users/dima/StockNews/venv/lib/python3.12/site-packages (from prompt-toolkit>=3.0.30->jupyter-console->jupyter) (0.2.13)\n",
      "Requirement already satisfied: soupsieve>1.2 in /Users/dima/StockNews/venv/lib/python3.12/site-packages (from beautifulsoup4->nbconvert->jupyter) (2.6)\n",
      "Requirement already satisfied: argon2-cffi-bindings in /Users/dima/StockNews/venv/lib/python3.12/site-packages (from argon2-cffi>=21.1->jupyter-server<3,>=2.4.0->jupyterlab->jupyter) (21.2.0)\n",
      "Requirement already satisfied: parso<0.9.0,>=0.8.3 in /Users/dima/StockNews/venv/lib/python3.12/site-packages (from jedi>=0.16->ipython>=7.23.1->ipykernel->jupyter) (0.8.4)\n",
      "Requirement already satisfied: attrs>=22.2.0 in /Users/dima/StockNews/venv/lib/python3.12/site-packages (from jsonschema>=4.18.0->jupyterlab-server<3,>=2.27.1->jupyterlab->jupyter) (24.2.0)\n",
      "Requirement already satisfied: jsonschema-specifications>=2023.03.6 in /Users/dima/StockNews/venv/lib/python3.12/site-packages (from jsonschema>=4.18.0->jupyterlab-server<3,>=2.27.1->jupyterlab->jupyter) (2023.12.1)\n",
      "Requirement already satisfied: referencing>=0.28.4 in /Users/dima/StockNews/venv/lib/python3.12/site-packages (from jsonschema>=4.18.0->jupyterlab-server<3,>=2.27.1->jupyterlab->jupyter) (0.35.1)\n",
      "Requirement already satisfied: rpds-py>=0.7.1 in /Users/dima/StockNews/venv/lib/python3.12/site-packages (from jsonschema>=4.18.0->jupyterlab-server<3,>=2.27.1->jupyterlab->jupyter) (0.20.0)\n",
      "Requirement already satisfied: python-json-logger>=2.0.4 in /Users/dima/StockNews/venv/lib/python3.12/site-packages (from jupyter-events>=0.9.0->jupyter-server<3,>=2.4.0->jupyterlab->jupyter) (2.0.7)\n",
      "Requirement already satisfied: pyyaml>=5.3 in /Users/dima/StockNews/venv/lib/python3.12/site-packages (from jupyter-events>=0.9.0->jupyter-server<3,>=2.4.0->jupyterlab->jupyter) (6.0.2)\n",
      "Requirement already satisfied: rfc3339-validator in /Users/dima/StockNews/venv/lib/python3.12/site-packages (from jupyter-events>=0.9.0->jupyter-server<3,>=2.4.0->jupyterlab->jupyter) (0.1.4)\n",
      "Requirement already satisfied: rfc3986-validator>=0.1.1 in /Users/dima/StockNews/venv/lib/python3.12/site-packages (from jupyter-events>=0.9.0->jupyter-server<3,>=2.4.0->jupyterlab->jupyter) (0.1.1)\n",
      "Requirement already satisfied: ptyprocess>=0.5 in /Users/dima/StockNews/venv/lib/python3.12/site-packages (from pexpect>4.3->ipython>=7.23.1->ipykernel->jupyter) (0.7.0)\n",
      "Requirement already satisfied: charset-normalizer<4,>=2 in /Users/dima/StockNews/venv/lib/python3.12/site-packages (from requests>=2.31->jupyterlab-server<3,>=2.27.1->jupyterlab->jupyter) (3.3.2)\n",
      "Requirement already satisfied: urllib3<3,>=1.21.1 in /Users/dima/StockNews/venv/lib/python3.12/site-packages (from requests>=2.31->jupyterlab-server<3,>=2.27.1->jupyterlab->jupyter) (2.2.3)\n",
      "Requirement already satisfied: executing>=1.2.0 in /Users/dima/StockNews/venv/lib/python3.12/site-packages (from stack-data->ipython>=7.23.1->ipykernel->jupyter) (2.1.0)\n",
      "Requirement already satisfied: asttokens>=2.1.0 in /Users/dima/StockNews/venv/lib/python3.12/site-packages (from stack-data->ipython>=7.23.1->ipykernel->jupyter) (2.4.1)\n",
      "Requirement already satisfied: pure-eval in /Users/dima/StockNews/venv/lib/python3.12/site-packages (from stack-data->ipython>=7.23.1->ipykernel->jupyter) (0.2.3)\n",
      "Requirement already satisfied: fqdn in /Users/dima/StockNews/venv/lib/python3.12/site-packages (from jsonschema[format-nongpl]>=4.18.0->jupyter-events>=0.9.0->jupyter-server<3,>=2.4.0->jupyterlab->jupyter) (1.5.1)\n",
      "Requirement already satisfied: isoduration in /Users/dima/StockNews/venv/lib/python3.12/site-packages (from jsonschema[format-nongpl]>=4.18.0->jupyter-events>=0.9.0->jupyter-server<3,>=2.4.0->jupyterlab->jupyter) (20.11.0)\n",
      "Requirement already satisfied: jsonpointer>1.13 in /Users/dima/StockNews/venv/lib/python3.12/site-packages (from jsonschema[format-nongpl]>=4.18.0->jupyter-events>=0.9.0->jupyter-server<3,>=2.4.0->jupyterlab->jupyter) (3.0.0)\n",
      "Requirement already satisfied: uri-template in /Users/dima/StockNews/venv/lib/python3.12/site-packages (from jsonschema[format-nongpl]>=4.18.0->jupyter-events>=0.9.0->jupyter-server<3,>=2.4.0->jupyterlab->jupyter) (1.3.0)\n",
      "Requirement already satisfied: webcolors>=24.6.0 in /Users/dima/StockNews/venv/lib/python3.12/site-packages (from jsonschema[format-nongpl]>=4.18.0->jupyter-events>=0.9.0->jupyter-server<3,>=2.4.0->jupyterlab->jupyter) (24.8.0)\n",
      "Requirement already satisfied: cffi>=1.0.1 in /Users/dima/StockNews/venv/lib/python3.12/site-packages (from argon2-cffi-bindings->argon2-cffi>=21.1->jupyter-server<3,>=2.4.0->jupyterlab->jupyter) (1.17.1)\n",
      "Requirement already satisfied: pycparser in /Users/dima/StockNews/venv/lib/python3.12/site-packages (from cffi>=1.0.1->argon2-cffi-bindings->argon2-cffi>=21.1->jupyter-server<3,>=2.4.0->jupyterlab->jupyter) (2.22)\n",
      "Requirement already satisfied: arrow>=0.15.0 in /Users/dima/StockNews/venv/lib/python3.12/site-packages (from isoduration->jsonschema[format-nongpl]>=4.18.0->jupyter-events>=0.9.0->jupyter-server<3,>=2.4.0->jupyterlab->jupyter) (1.3.0)\n",
      "Requirement already satisfied: types-python-dateutil>=2.8.10 in /Users/dima/StockNews/venv/lib/python3.12/site-packages (from arrow>=0.15.0->isoduration->jsonschema[format-nongpl]>=4.18.0->jupyter-events>=0.9.0->jupyter-server<3,>=2.4.0->jupyterlab->jupyter) (2.9.0.20241003)\n",
      "Note: you may need to restart the kernel to use updated packages.\n",
      "Requirement already satisfied: matplotlib in /Users/dima/StockNews/venv/lib/python3.12/site-packages (3.9.2)\n",
      "Requirement already satisfied: contourpy>=1.0.1 in /Users/dima/StockNews/venv/lib/python3.12/site-packages (from matplotlib) (1.3.0)\n",
      "Requirement already satisfied: cycler>=0.10 in /Users/dima/StockNews/venv/lib/python3.12/site-packages (from matplotlib) (0.12.1)\n",
      "Requirement already satisfied: fonttools>=4.22.0 in /Users/dima/StockNews/venv/lib/python3.12/site-packages (from matplotlib) (4.54.1)\n",
      "Requirement already satisfied: kiwisolver>=1.3.1 in /Users/dima/StockNews/venv/lib/python3.12/site-packages (from matplotlib) (1.4.7)\n",
      "Requirement already satisfied: numpy>=1.23 in /Users/dima/StockNews/venv/lib/python3.12/site-packages (from matplotlib) (2.0.2)\n",
      "Requirement already satisfied: packaging>=20.0 in /Users/dima/StockNews/venv/lib/python3.12/site-packages (from matplotlib) (24.1)\n",
      "Requirement already satisfied: pillow>=8 in /Users/dima/StockNews/venv/lib/python3.12/site-packages (from matplotlib) (10.4.0)\n",
      "Requirement already satisfied: pyparsing>=2.3.1 in /Users/dima/StockNews/venv/lib/python3.12/site-packages (from matplotlib) (3.1.4)\n",
      "Requirement already satisfied: python-dateutil>=2.7 in /Users/dima/StockNews/venv/lib/python3.12/site-packages (from matplotlib) (2.9.0.post0)\n",
      "Requirement already satisfied: six>=1.5 in /Users/dima/StockNews/venv/lib/python3.12/site-packages (from python-dateutil>=2.7->matplotlib) (1.16.0)\n",
      "Note: you may need to restart the kernel to use updated packages.\n",
      "Requirement already satisfied: scikit-learn in /Users/dima/StockNews/venv/lib/python3.12/site-packages (1.5.2)\n",
      "Requirement already satisfied: numpy>=1.19.5 in /Users/dima/StockNews/venv/lib/python3.12/site-packages (from scikit-learn) (2.0.2)\n",
      "Requirement already satisfied: scipy>=1.6.0 in /Users/dima/StockNews/venv/lib/python3.12/site-packages (from scikit-learn) (1.14.1)\n",
      "Requirement already satisfied: joblib>=1.2.0 in /Users/dima/StockNews/venv/lib/python3.12/site-packages (from scikit-learn) (1.4.2)\n",
      "Requirement already satisfied: threadpoolctl>=3.1.0 in /Users/dima/StockNews/venv/lib/python3.12/site-packages (from scikit-learn) (3.5.0)\n",
      "Note: you may need to restart the kernel to use updated packages.\n",
      "Requirement already satisfied: tensorboard in /Users/dima/StockNews/venv/lib/python3.12/site-packages (2.18.0)\n",
      "Requirement already satisfied: absl-py>=0.4 in /Users/dima/StockNews/venv/lib/python3.12/site-packages (from tensorboard) (2.1.0)\n",
      "Requirement already satisfied: grpcio>=1.48.2 in /Users/dima/StockNews/venv/lib/python3.12/site-packages (from tensorboard) (1.66.2)\n",
      "Requirement already satisfied: markdown>=2.6.8 in /Users/dima/StockNews/venv/lib/python3.12/site-packages (from tensorboard) (3.7)\n",
      "Requirement already satisfied: numpy>=1.12.0 in /Users/dima/StockNews/venv/lib/python3.12/site-packages (from tensorboard) (2.0.2)\n",
      "Requirement already satisfied: packaging in /Users/dima/StockNews/venv/lib/python3.12/site-packages (from tensorboard) (24.1)\n",
      "Requirement already satisfied: protobuf!=4.24.0,>=3.19.6 in /Users/dima/StockNews/venv/lib/python3.12/site-packages (from tensorboard) (5.28.2)\n",
      "Requirement already satisfied: setuptools>=41.0.0 in /Users/dima/StockNews/venv/lib/python3.12/site-packages (from tensorboard) (75.1.0)\n",
      "Requirement already satisfied: six>1.9 in /Users/dima/StockNews/venv/lib/python3.12/site-packages (from tensorboard) (1.16.0)\n",
      "Requirement already satisfied: tensorboard-data-server<0.8.0,>=0.7.0 in /Users/dima/StockNews/venv/lib/python3.12/site-packages (from tensorboard) (0.7.2)\n",
      "Requirement already satisfied: werkzeug>=1.0.1 in /Users/dima/StockNews/venv/lib/python3.12/site-packages (from tensorboard) (3.0.4)\n",
      "Requirement already satisfied: MarkupSafe>=2.1.1 in /Users/dima/StockNews/venv/lib/python3.12/site-packages (from werkzeug>=1.0.1->tensorboard) (2.1.5)\n",
      "Note: you may need to restart the kernel to use updated packages.\n",
      "Requirement already satisfied: seaborn in /Users/dima/StockNews/venv/lib/python3.12/site-packages (0.13.2)\n",
      "Requirement already satisfied: numpy!=1.24.0,>=1.20 in /Users/dima/StockNews/venv/lib/python3.12/site-packages (from seaborn) (2.0.2)\n",
      "Requirement already satisfied: pandas>=1.2 in /Users/dima/StockNews/venv/lib/python3.12/site-packages (from seaborn) (2.2.3)\n",
      "Requirement already satisfied: matplotlib!=3.6.1,>=3.4 in /Users/dima/StockNews/venv/lib/python3.12/site-packages (from seaborn) (3.9.2)\n",
      "Requirement already satisfied: contourpy>=1.0.1 in /Users/dima/StockNews/venv/lib/python3.12/site-packages (from matplotlib!=3.6.1,>=3.4->seaborn) (1.3.0)\n",
      "Requirement already satisfied: cycler>=0.10 in /Users/dima/StockNews/venv/lib/python3.12/site-packages (from matplotlib!=3.6.1,>=3.4->seaborn) (0.12.1)\n",
      "Requirement already satisfied: fonttools>=4.22.0 in /Users/dima/StockNews/venv/lib/python3.12/site-packages (from matplotlib!=3.6.1,>=3.4->seaborn) (4.54.1)\n",
      "Requirement already satisfied: kiwisolver>=1.3.1 in /Users/dima/StockNews/venv/lib/python3.12/site-packages (from matplotlib!=3.6.1,>=3.4->seaborn) (1.4.7)\n",
      "Requirement already satisfied: packaging>=20.0 in /Users/dima/StockNews/venv/lib/python3.12/site-packages (from matplotlib!=3.6.1,>=3.4->seaborn) (24.1)\n",
      "Requirement already satisfied: pillow>=8 in /Users/dima/StockNews/venv/lib/python3.12/site-packages (from matplotlib!=3.6.1,>=3.4->seaborn) (10.4.0)\n",
      "Requirement already satisfied: pyparsing>=2.3.1 in /Users/dima/StockNews/venv/lib/python3.12/site-packages (from matplotlib!=3.6.1,>=3.4->seaborn) (3.1.4)\n",
      "Requirement already satisfied: python-dateutil>=2.7 in /Users/dima/StockNews/venv/lib/python3.12/site-packages (from matplotlib!=3.6.1,>=3.4->seaborn) (2.9.0.post0)\n",
      "Requirement already satisfied: pytz>=2020.1 in /Users/dima/StockNews/venv/lib/python3.12/site-packages (from pandas>=1.2->seaborn) (2024.2)\n",
      "Requirement already satisfied: tzdata>=2022.7 in /Users/dima/StockNews/venv/lib/python3.12/site-packages (from pandas>=1.2->seaborn) (2024.2)\n",
      "Requirement already satisfied: six>=1.5 in /Users/dima/StockNews/venv/lib/python3.12/site-packages (from python-dateutil>=2.7->matplotlib!=3.6.1,>=3.4->seaborn) (1.16.0)\n",
      "Note: you may need to restart the kernel to use updated packages.\n"
     ]
    }
   ],
   "source": [
    "\n",
    "%pip install boto3\n",
    "%pip install python-dotenv\n",
    "%pip install newsapi-python\n",
    "%pip install textblob\n",
    "%pip install vaderSentiment\n",
    "%pip install spacy\n",
    "%pip install fuzzywuzzy\n",
    "%pip install python-Levenshtein\n",
    "%pip install yfinance\n",
    "%pip install joblib\n",
    "%pip install torch torchvision torchaudio\n",
    "%pip install --upgrade torch\n",
    "%pip install jupyter\n",
    "%pip install matplotlib\n",
    "%pip install scikit-learn\n",
    "%pip install tensorboard\n",
    "%pip install seaborn\n",
    "\n"
   ]
  },
  {
   "cell_type": "markdown",
   "metadata": {},
   "source": [
    "Загрузка модели spaCy"
   ]
  },
  {
   "cell_type": "code",
   "execution_count": 4,
   "metadata": {
    "vscode": {
     "languageId": "shellscript"
    }
   },
   "outputs": [
    {
     "name": "stdout",
     "output_type": "stream",
     "text": [
      "Collecting en-core-web-sm==3.8.0\n",
      "  Downloading https://github.com/explosion/spacy-models/releases/download/en_core_web_sm-3.8.0/en_core_web_sm-3.8.0-py3-none-any.whl (12.8 MB)\n",
      "\u001b[2K     \u001b[90m━━━━━━━━━━━━━━━━━━━━━━━━━━━━━━━━━━━━━━━━\u001b[0m \u001b[32m12.8/12.8 MB\u001b[0m \u001b[31m29.7 MB/s\u001b[0m eta \u001b[36m0:00:00\u001b[0m \u001b[36m0:00:01\u001b[0m\n",
      "\u001b[?25h\u001b[38;5;2m✔ Download and installation successful\u001b[0m\n",
      "You can now load the package via spacy.load('en_core_web_sm')\n"
     ]
    }
   ],
   "source": [
    "!python -m spacy download en_core_web_sm"
   ]
  },
  {
   "cell_type": "markdown",
   "metadata": {},
   "source": [
    "Импорт библиотек и настройка визуализации"
   ]
  },
  {
   "cell_type": "code",
   "execution_count": 4,
   "metadata": {
    "vscode": {
     "languageId": "shellscript"
    }
   },
   "outputs": [],
   "source": [
    "# Импорт стандартных библиотек\n",
    "import numpy as np\n",
    "import pandas as pd\n",
    "import matplotlib.pyplot as plt\n",
    "import seaborn as sns\n",
    "import json\n",
    "import os\n",
    "\n",
    "# Импорт библиотек для работы с AWS и DynamoDB\n",
    "import boto3\n",
    "from dotenv import load_dotenv\n",
    "\n",
    "# Импорт библиотек для обработки текста и анализа настроений\n",
    "from textblob import TextBlob\n",
    "from vaderSentiment.vaderSentiment import SentimentIntensityAnalyzer\n",
    "import spacy\n",
    "from fuzzywuzzy import process\n",
    "\n",
    "# Импорт библиотек для машинного обучения\n",
    "from sklearn.model_selection import train_test_split\n",
    "from sklearn.preprocessing import MinMaxScaler\n",
    "from sklearn.metrics import mean_squared_error, r2_score\n",
    "\n",
    "# Импорт PyTorch для построения модели LSTM\n",
    "import torch\n",
    "import torch.nn as nn\n",
    "from torch.autograd import Variable\n",
    "import joblib\n",
    "\n",
    "# Настройка визуализации\n",
    "# plt.style.use('seaborn')\n",
    "plt.style.use(\"seaborn-v0_8\")\n",
    "%matplotlib inline\n",
    "\n",
    "# Загрузка модели spaCy\n",
    "nlp = spacy.load(\"en_core_web_sm\")\n"
   ]
  },
  {
   "cell_type": "markdown",
   "metadata": {},
   "source": [
    ".env uploads"
   ]
  },
  {
   "cell_type": "code",
   "execution_count": 31,
   "metadata": {
    "vscode": {
     "languageId": "shellscript"
    }
   },
   "outputs": [
    {
     "data": {
      "text/plain": [
       "True"
      ]
     },
     "execution_count": 31,
     "metadata": {},
     "output_type": "execute_result"
    }
   ],
   "source": [
    "from dotenv import load_dotenv\n",
    "from pathlib import Path\n",
    "\n",
    "# Загрузка переменных окружения из .env файла\n",
    "env_path = Path('.') / '.env'\n",
    "load_dotenv(dotenv_path=env_path)\n"
   ]
  },
  {
   "cell_type": "markdown",
   "metadata": {},
   "source": [
    "files company"
   ]
  },
  {
   "cell_type": "code",
   "execution_count": 32,
   "metadata": {
    "vscode": {
     "languageId": "shellscript"
    }
   },
   "outputs": [],
   "source": [
    "with open('companies.json', 'r') as f:\n",
    "    COMPANIES = json.load(f)"
   ]
  },
  {
   "cell_type": "markdown",
   "metadata": {},
   "source": [
    "Функция для извлечения новостей из DynamoDB"
   ]
  },
  {
   "cell_type": "code",
   "execution_count": 33,
   "metadata": {
    "vscode": {
     "languageId": "shellscript"
    }
   },
   "outputs": [],
   "source": [
    "def fetch_news_data():\n",
    "    try:\n",
    "        # Инициализация клиента STS\n",
    "        sts_client = boto3.client('sts', region_name=os.getenv('AWS_REGION'))\n",
    "        \n",
    "        assumed_role = sts_client.assume_role(\n",
    "            RoleArn=os.getenv('ROLE_ARN'),  # ARN вашей роли STS\n",
    "            RoleSessionName='LocalNewsAnalyzerSession'\n",
    "        )\n",
    "        \n",
    "        credentials = assumed_role['Credentials']\n",
    "        \n",
    "        # Инициализация клиента DynamoDB с временными креденшиалами\n",
    "        dynamodb = boto3.resource(\n",
    "            'dynamodb',\n",
    "            region_name=os.getenv('AWS_REGION'),\n",
    "            aws_access_key_id=credentials['AccessKeyId'],\n",
    "            aws_secret_access_key=credentials['SecretAccessKey'],\n",
    "            aws_session_token=credentials['SessionToken']\n",
    "        )\n",
    "        \n",
    "        table = dynamodb.Table(os.getenv('DYNAMODB_TABLE'))\n",
    "        \n",
    "        # Сканирование всей таблицы (для больших таблиц рекомендуется использовать пагинацию)\n",
    "        response = table.scan()\n",
    "        items = response.get('Items', [])\n",
    "        \n",
    "        # Преобразование данных в DataFrame\n",
    "        news_df = pd.DataFrame(items)\n",
    "        \n",
    "        # Преобразование типов данных\n",
    "        news_df['textblob_sentiment'] = news_df['textblob_sentiment'].apply(lambda x: float(x))\n",
    "        news_df['vader_sentiment'] = news_df['vader_sentiment'].apply(lambda x: float(x)) if 'vader_sentiment' in news_df.columns else 0.0\n",
    "        news_df['publishedAt'] = pd.to_datetime(news_df['publishedAt'])\n",
    "        \n",
    "        return news_df\n",
    "    \n",
    "    except Exception as e:\n",
    "        print(f\"Ошибка при извлечении данных из DynamoDB: {e}\")\n",
    "        return pd.DataFrame()  # Возвращаем пустой DataFrame в случае ошибки\n"
   ]
  },
  {
   "cell_type": "markdown",
   "metadata": {},
   "source": [
    "Функция для получения исторических данных о ценах акций с помощью yfinance"
   ]
  },
  {
   "cell_type": "code",
   "execution_count": 34,
   "metadata": {
    "vscode": {
     "languageId": "shellscript"
    }
   },
   "outputs": [],
   "source": [
    "import yfinance as yf\n",
    "\n",
    "def get_stock_data(ticker, start_date='2015-01-02', end_date='2024-10-04'):\n",
    "    \"\"\"\n",
    "    Получает исторические данные о ценах акций для заданного тикера.\n",
    "    \n",
    "    :param ticker: Тикер акции (например, 'AAPL' для Apple)\n",
    "    :param start_date: Начальная дата в формате 'YYYY-MM-DD'\n",
    "    :param end_date: Конечная дата в формате 'YYYY-MM-DD'\n",
    "    :return: DataFrame с историческими данными о ценах акций\n",
    "    \"\"\"\n",
    "    stock = yf.Ticker(ticker)\n",
    "    hist = stock.history(start=start_date, end=end_date)\n",
    "    hist.reset_index(inplace=True)\n",
    "    hist['Date'] = hist['Date'].dt.date\n",
    "    hist = hist[['Date', 'Close']]\n",
    "    return hist\n"
   ]
  },
  {
   "cell_type": "markdown",
   "metadata": {},
   "source": [
    "Подготовка и объединение данных"
   ]
  },
  {
   "cell_type": "code",
   "execution_count": 35,
   "metadata": {
    "vscode": {
     "languageId": "shellscript"
    }
   },
   "outputs": [],
   "source": [
    "def prepare_data(news_df, stock_df):\n",
    "    # Преобразование publishedAt в дату\n",
    "    news_df['published_date'] = news_df['publishedAt'].dt.date\n",
    "    \n",
    "    # Группировка настроений по дате\n",
    "    sentiment_daily = news_df.groupby('published_date')[['textblob_sentiment', 'vader_sentiment']].mean().reset_index()\n",
    "    sentiment_daily.rename(columns={'published_date': 'Date'}, inplace=True)\n",
    "    \n",
    "    # Подготовка данных о ценах акций\n",
    "    stock_df.rename(columns={'Date': 'Date', 'Close': 'Close'}, inplace=True)\n",
    "    \n",
    "    # Объединение данных по дате\n",
    "    merged_df = pd.merge(sentiment_daily, stock_df, on='Date', how='inner')\n",
    "    merged_df = merged_df.dropna()\n",
    "    \n",
    "    return merged_df\n"
   ]
  },
  {
   "cell_type": "markdown",
   "metadata": {},
   "source": [
    "Определение модели LSTM с использованием PyTorch"
   ]
  },
  {
   "cell_type": "code",
   "execution_count": 36,
   "metadata": {
    "vscode": {
     "languageId": "shellscript"
    }
   },
   "outputs": [],
   "source": [
    "class LSTMModel(nn.Module):\n",
    "    def __init__(self, input_dim, hidden_dim, num_layers, output_dim):\n",
    "        super(LSTMModel, self).__init__()\n",
    "        self.hidden_dim = hidden_dim\n",
    "        self.num_layers = num_layers\n",
    "\n",
    "        # Определение слоя LSTM\n",
    "        self.lstm = nn.LSTM(input_dim, hidden_dim, num_layers, batch_first=True)\n",
    "\n",
    "        # Полносвязный слой\n",
    "        self.fc = nn.Linear(hidden_dim, output_dim)\n",
    "\n",
    "    def forward(self, x):\n",
    "        # Инициализация скрытых и ядерных состояний\n",
    "        h0 = torch.zeros(self.num_layers, x.size(0), self.hidden_dim).to(x.device).requires_grad_()\n",
    "        c0 = torch.zeros(self.num_layers, x.size(0), self.hidden_dim).to(x.device).requires_grad_()\n",
    "\n",
    "        # Пропуск через LSTM слой\n",
    "        out, (hn, cn) = self.lstm(x, (h0.detach(), c0.detach()))\n",
    "\n",
    "        # Пропуск через полносвязный слой\n",
    "        out = self.fc(out[:, -1, :]) \n",
    "        return out\n"
   ]
  },
  {
   "cell_type": "markdown",
   "metadata": {},
   "source": [
    "Загрузка и подготовка данных"
   ]
  },
  {
   "cell_type": "code",
   "execution_count": 37,
   "metadata": {
    "vscode": {
     "languageId": "shellscript"
    }
   },
   "outputs": [
    {
     "name": "stdout",
     "output_type": "stream",
     "text": [
      "Данные о новостях успешно загружены.\n"
     ]
    },
    {
     "data": {
      "text/html": [
       "<div>\n",
       "<style scoped>\n",
       "    .dataframe tbody tr th:only-of-type {\n",
       "        vertical-align: middle;\n",
       "    }\n",
       "\n",
       "    .dataframe tbody tr th {\n",
       "        vertical-align: top;\n",
       "    }\n",
       "\n",
       "    .dataframe thead th {\n",
       "        text-align: right;\n",
       "    }\n",
       "</style>\n",
       "<table border=\"1\" class=\"dataframe\">\n",
       "  <thead>\n",
       "    <tr style=\"text-align: right;\">\n",
       "      <th></th>\n",
       "      <th>company</th>\n",
       "      <th>publishedAt</th>\n",
       "      <th>headline</th>\n",
       "      <th>source</th>\n",
       "      <th>description</th>\n",
       "      <th>url</th>\n",
       "      <th>textblob_sentiment</th>\n",
       "      <th>author</th>\n",
       "      <th>vader_sentiment</th>\n",
       "    </tr>\n",
       "  </thead>\n",
       "  <tbody>\n",
       "    <tr>\n",
       "      <th>0</th>\n",
       "      <td>First Trust NASDAQ Rising Dividend Achievers</td>\n",
       "      <td>2024-10-03 19:40:28+00:00</td>\n",
       "      <td>Innovation Pharmaceuticals (OTCMKTS:IPIX) &amp; Cu...</td>\n",
       "      <td>ETF Daily News</td>\n",
       "      <td>CureVac (NASDAQ:CVAC – Get Free Report) and In...</td>\n",
       "      <td>https://www.etfdailynews.com/2024/10/03/innova...</td>\n",
       "      <td>0.375000</td>\n",
       "      <td>MarketBeat News</td>\n",
       "      <td>0.9343</td>\n",
       "    </tr>\n",
       "    <tr>\n",
       "      <th>1</th>\n",
       "      <td>Organigram</td>\n",
       "      <td>2024-10-04 07:25:02+00:00</td>\n",
       "      <td>GAN (NASDAQ:GAN) &amp; HUYA (NYSE:HUYA) Head to He...</td>\n",
       "      <td>ETF Daily News</td>\n",
       "      <td>HUYA (NYSE:HUYA – Get Free Report) and GAN (NA...</td>\n",
       "      <td>https://www.etfdailynews.com/2024/10/04/gan-na...</td>\n",
       "      <td>0.500000</td>\n",
       "      <td>MarketBeat News</td>\n",
       "      <td>0.9239</td>\n",
       "    </tr>\n",
       "    <tr>\n",
       "      <th>2</th>\n",
       "      <td>First Trust NASDAQ Rising Dividend Achievers</td>\n",
       "      <td>2024-10-03 12:30:04+00:00</td>\n",
       "      <td>EuroSite Power (OTCMKTS:EUSP) &amp; MGE Energy (NA...</td>\n",
       "      <td>ETF Daily News</td>\n",
       "      <td>MGE Energy (NASDAQ:MGEE – Get Free Report) and...</td>\n",
       "      <td>https://www.etfdailynews.com/2024/10/03/eurosi...</td>\n",
       "      <td>0.433333</td>\n",
       "      <td>MarketBeat News</td>\n",
       "      <td>0.9186</td>\n",
       "    </tr>\n",
       "    <tr>\n",
       "      <th>3</th>\n",
       "      <td>Unknown</td>\n",
       "      <td>2024-10-04 03:08:05+00:00</td>\n",
       "      <td>Rajiv Jain is unimpressed by China stock mania...</td>\n",
       "      <td>The Times of India</td>\n",
       "      <td>he manager of the top-performing $23 billion G...</td>\n",
       "      <td>https://economictimes.indiatimes.com/markets/s...</td>\n",
       "      <td>-0.083333</td>\n",
       "      <td>Bloomberg</td>\n",
       "      <td>0.0000</td>\n",
       "    </tr>\n",
       "    <tr>\n",
       "      <th>4</th>\n",
       "      <td>First Trust NASDAQ Rising Dividend Achievers</td>\n",
       "      <td>2024-10-04 05:56:58+00:00</td>\n",
       "      <td>Critical Survey: RumbleOn (NASDAQ:RMBL) vs. CI...</td>\n",
       "      <td>ETF Daily News</td>\n",
       "      <td>CI&amp;T (NYSE:CINT – Get Free Report) and RumbleO...</td>\n",
       "      <td>https://www.etfdailynews.com/2024/10/04/critic...</td>\n",
       "      <td>0.433333</td>\n",
       "      <td>MarketBeat News</td>\n",
       "      <td>0.9091</td>\n",
       "    </tr>\n",
       "  </tbody>\n",
       "</table>\n",
       "</div>"
      ],
      "text/plain": [
       "                                        company               publishedAt  \\\n",
       "0  First Trust NASDAQ Rising Dividend Achievers 2024-10-03 19:40:28+00:00   \n",
       "1                                    Organigram 2024-10-04 07:25:02+00:00   \n",
       "2  First Trust NASDAQ Rising Dividend Achievers 2024-10-03 12:30:04+00:00   \n",
       "3                                       Unknown 2024-10-04 03:08:05+00:00   \n",
       "4  First Trust NASDAQ Rising Dividend Achievers 2024-10-04 05:56:58+00:00   \n",
       "\n",
       "                                            headline              source  \\\n",
       "0  Innovation Pharmaceuticals (OTCMKTS:IPIX) & Cu...      ETF Daily News   \n",
       "1  GAN (NASDAQ:GAN) & HUYA (NYSE:HUYA) Head to He...      ETF Daily News   \n",
       "2  EuroSite Power (OTCMKTS:EUSP) & MGE Energy (NA...      ETF Daily News   \n",
       "3  Rajiv Jain is unimpressed by China stock mania...  The Times of India   \n",
       "4  Critical Survey: RumbleOn (NASDAQ:RMBL) vs. CI...      ETF Daily News   \n",
       "\n",
       "                                         description  \\\n",
       "0  CureVac (NASDAQ:CVAC – Get Free Report) and In...   \n",
       "1  HUYA (NYSE:HUYA – Get Free Report) and GAN (NA...   \n",
       "2  MGE Energy (NASDAQ:MGEE – Get Free Report) and...   \n",
       "3  he manager of the top-performing $23 billion G...   \n",
       "4  CI&T (NYSE:CINT – Get Free Report) and RumbleO...   \n",
       "\n",
       "                                                 url  textblob_sentiment  \\\n",
       "0  https://www.etfdailynews.com/2024/10/03/innova...            0.375000   \n",
       "1  https://www.etfdailynews.com/2024/10/04/gan-na...            0.500000   \n",
       "2  https://www.etfdailynews.com/2024/10/03/eurosi...            0.433333   \n",
       "3  https://economictimes.indiatimes.com/markets/s...           -0.083333   \n",
       "4  https://www.etfdailynews.com/2024/10/04/critic...            0.433333   \n",
       "\n",
       "            author  vader_sentiment  \n",
       "0  MarketBeat News           0.9343  \n",
       "1  MarketBeat News           0.9239  \n",
       "2  MarketBeat News           0.9186  \n",
       "3        Bloomberg           0.0000  \n",
       "4  MarketBeat News           0.9091  "
      ]
     },
     "metadata": {},
     "output_type": "display_data"
    }
   ],
   "source": [
    "# Извлечение данных из DynamoDB\n",
    "news_df = fetch_news_data()\n",
    "if news_df.empty:\n",
    "    print(\"Нет данных для анализа.\")\n",
    "else:\n",
    "    print(\"Данные о новостях успешно загружены.\")\n",
    "    display(news_df.head())\n"
   ]
  },
  {
   "cell_type": "markdown",
   "metadata": {},
   "source": [
    "Получение данных о ценах акций"
   ]
  },
  {
   "cell_type": "code",
   "execution_count": 38,
   "metadata": {
    "vscode": {
     "languageId": "shellscript"
    }
   },
   "outputs": [
    {
     "name": "stdout",
     "output_type": "stream",
     "text": [
      "Данные о AAPL успешно загружены.\n",
      "Данные о GOOG успешно загружены.\n",
      "Данные о IBM успешно загружены.\n"
     ]
    }
   ],
   "source": [
    "# Выберите тикеры, которые вы хотите проанализировать\n",
    "tickers = ['AAPL', 'GOOG', 'IBM']  # Добавьте другие тикеры по мере необходимости\n",
    "\n",
    "# Получение данных о ценах акций для каждого тикера\n",
    "stock_data = {}\n",
    "for ticker in tickers:\n",
    "    stock_df = get_stock_data(ticker)\n",
    "    stock_data[ticker] = stock_df\n",
    "    print(f\"Данные о {ticker} успешно загружены.\")"
   ]
  },
  {
   "cell_type": "markdown",
   "metadata": {},
   "source": [
    "Подготовка данных для модели"
   ]
  },
  {
   "cell_type": "code",
   "execution_count": 39,
   "metadata": {
    "vscode": {
     "languageId": "shellscript"
    }
   },
   "outputs": [
    {
     "name": "stdout",
     "output_type": "stream",
     "text": [
      "Объединенные данные:\n"
     ]
    },
    {
     "data": {
      "text/html": [
       "<div>\n",
       "<style scoped>\n",
       "    .dataframe tbody tr th:only-of-type {\n",
       "        vertical-align: middle;\n",
       "    }\n",
       "\n",
       "    .dataframe tbody tr th {\n",
       "        vertical-align: top;\n",
       "    }\n",
       "\n",
       "    .dataframe thead th {\n",
       "        text-align: right;\n",
       "    }\n",
       "</style>\n",
       "<table border=\"1\" class=\"dataframe\">\n",
       "  <thead>\n",
       "    <tr style=\"text-align: right;\">\n",
       "      <th></th>\n",
       "      <th>Date</th>\n",
       "      <th>textblob_sentiment</th>\n",
       "      <th>vader_sentiment</th>\n",
       "      <th>Close</th>\n",
       "    </tr>\n",
       "  </thead>\n",
       "  <tbody>\n",
       "    <tr>\n",
       "      <th>0</th>\n",
       "      <td>2024-10-02</td>\n",
       "      <td>0.374277</td>\n",
       "      <td>0.779710</td>\n",
       "      <td>226.779999</td>\n",
       "    </tr>\n",
       "    <tr>\n",
       "      <th>1</th>\n",
       "      <td>2024-10-03</td>\n",
       "      <td>0.306701</td>\n",
       "      <td>0.705984</td>\n",
       "      <td>225.669998</td>\n",
       "    </tr>\n",
       "  </tbody>\n",
       "</table>\n",
       "</div>"
      ],
      "text/plain": [
       "         Date  textblob_sentiment  vader_sentiment       Close\n",
       "0  2024-10-02            0.374277         0.779710  226.779999\n",
       "1  2024-10-03            0.306701         0.705984  225.669998"
      ]
     },
     "metadata": {},
     "output_type": "display_data"
    }
   ],
   "source": [
    "# Выберите тикер для анализа (например, 'AAPL')\n",
    "selected_ticker = 'AAPL'\n",
    "stock_df = stock_data[selected_ticker]\n",
    "\n",
    "# Подготовка данных\n",
    "merged_df = prepare_data(news_df, stock_df)\n",
    "print(\"Объединенные данные:\")\n",
    "display(merged_df.head())\n"
   ]
  },
  {
   "cell_type": "markdown",
   "metadata": {},
   "source": [
    "Масштабирование данных"
   ]
  },
  {
   "cell_type": "code",
   "execution_count": 19,
   "metadata": {
    "vscode": {
     "languageId": "shellscript"
    }
   },
   "outputs": [],
   "source": [
    "# Инициализация масштабатора\n",
    "scaler = MinMaxScaler(feature_range=(-1, 1))\n",
    "\n",
    "# Масштабирование данных\n",
    "scaled_data = scaler.fit_transform(merged_df[['textblob_sentiment', 'vader_sentiment', 'Close']])\n",
    "\n",
    "# Преобразование обратно в DataFrame\n",
    "scaled_df = pd.DataFrame(scaled_data, columns=['textblob_sentiment', 'vader_sentiment', 'Close'])\n"
   ]
  },
  {
   "cell_type": "markdown",
   "metadata": {},
   "source": [
    "Создание обучающих и тестовых выборок"
   ]
  },
  {
   "cell_type": "code",
   "execution_count": 48,
   "metadata": {
    "vscode": {
     "languageId": "shellscript"
    }
   },
   "outputs": [
    {
     "name": "stdout",
     "output_type": "stream",
     "text": [
      "(2, 3)\n",
      "   textblob_sentiment  vader_sentiment  Close\n",
      "0                 1.0              1.0    1.0\n",
      "1                -1.0             -1.0   -1.0\n",
      "Generated 0 sequences.\n",
      "X shape: (0,), y shape: (0,)\n",
      "Error: No data available for training/testing.\n"
     ]
    }
   ],
   "source": [
    "# def create_sequences(data, look_back=60):\n",
    "#     X = []\n",
    "#     y = []\n",
    "#     for i in range(len(data) - look_back):\n",
    "#         seq = data[i:i + look_back][['textblob_sentiment', 'vader_sentiment']].values\n",
    "#         target = data.iloc[i + look_back]['Close']\n",
    "#         print(f'Sequence {i}: {seq}, Target: {target}')  # Debug output\n",
    "#         X.append(seq)\n",
    "#         y.append(target)\n",
    "#     X = np.array(X)\n",
    "#     y = np.array(y)\n",
    "#     return X, y\n",
    "\n",
    "\n",
    "\n",
    "# look_back = 60\n",
    "# X, y = create_sequences(scaled_df, look_back)\n",
    "\n",
    "# print(f'X shape: {X.shape}, y shape: {y.shape}')\n",
    "\n",
    "# # Разделение на обучающую и тестовую выборки\n",
    "# X_train, X_test, y_train, y_test = train_test_split(X, y, test_size=0.2, shuffle=False)\n",
    "\n",
    "# # print(scaled_df.head())\n",
    "# # print(scaled_df.shape)\n",
    "\n",
    "\n",
    "# # print(f'X_train shape: {X_train.shape}')\n",
    "# # print(f'y_train shape: {y_train.shape}')\n",
    "# # print(f'X_test shape: {X_test.shape}')\n",
    "# # print(f'y_test shape: {y_test.shape}')\n",
    "print(scaled_df.shape)\n",
    "print(scaled_df.head())\n",
    "\n",
    "look_back = 2\n",
    "if len(scaled_df) < look_back:\n",
    "    print(\"Error: scaled_df must have at least\", look_back, \"rows.\")\n",
    "\n",
    "def create_sequences(data, look_back=60):\n",
    "    X = []\n",
    "    y = []\n",
    "    for i in range(len(data) - look_back):\n",
    "        seq = data[i:i + look_back][['textblob_sentiment', 'vader_sentiment']].values\n",
    "        target = data.iloc[i + look_back]['Close']\n",
    "        X.append(seq)\n",
    "        y.append(target)\n",
    "    X = np.array(X)\n",
    "    y = np.array(y)\n",
    "    print(f'Generated {len(X)} sequences.')\n",
    "    return X, y\n",
    "\n",
    "# Generate sequences\n",
    "X, y = create_sequences(scaled_df, look_back)\n",
    "print(f'X shape: {X.shape}, y shape: {y.shape}')\n",
    "\n",
    "# Split the data\n",
    "if X.shape[0] > 0 and y.shape[0] > 0:\n",
    "    X_train, X_test, y_train, y_test = train_test_split(X, y, test_size=0.2, shuffle=False)\n",
    "    print(f'X_train shape: {X_train.shape}')\n",
    "    print(f'y_train shape: {y_train.shape}')\n",
    "    print(f'X_test shape: {X_test.shape}')\n",
    "    print(f'y_test shape: {y_test.shape}')\n",
    "else:\n",
    "    print(\"Error: No data available for training/testing.\")\n"
   ]
  },
  {
   "cell_type": "markdown",
   "metadata": {},
   "source": [
    "Преобразование данных в тензоры"
   ]
  },
  {
   "cell_type": "code",
   "execution_count": 49,
   "metadata": {
    "vscode": {
     "languageId": "shellscript"
    }
   },
   "outputs": [
    {
     "name": "stdout",
     "output_type": "stream",
     "text": [
      "Error: No data available for training/testing.\n"
     ]
    }
   ],
   "source": [
    "# Преобразование в тензоры PyTorch\n",
    "# X_train = torch.from_numpy(X_train).type(torch.Tensor)\n",
    "# X_test = torch.from_numpy(X_test).type(torch.Tensor)\n",
    "# y_train = torch.from_numpy(y_train).type(torch.Tensor)\n",
    "# y_test = torch.from_numpy(y_test).type(torch.Tensor)\n",
    "\n",
    "# # Добавление измерения признаков (input_dim=2)\n",
    "# X_train = X_train.unsqueeze(-1)  # shape: [batch_size, seq_length, input_dim]\n",
    "# X_test = X_test.unsqueeze(-1)\n",
    "# Ensure you have enough data\n",
    "if X.shape[0] > 0 and y.shape[0] > 0:\n",
    "    # Split the data\n",
    "    X_train, X_test, y_train, y_test = train_test_split(X, y, test_size=0.2, shuffle=False)\n",
    "    \n",
    "    # Print shapes for debugging\n",
    "    print(f'X_train shape: {X_train.shape}')\n",
    "    print(f'y_train shape: {y_train.shape}')\n",
    "    print(f'X_test shape: {X_test.shape}')\n",
    "    print(f'y_test shape: {y_test.shape}')\n",
    "\n",
    "    # Check if train and test sets are not empty\n",
    "    if X_train.size == 0 or X_test.size == 0:\n",
    "        print(\"Error: One of the training or test sets is empty.\")\n",
    "    else:\n",
    "        # Convert to PyTorch tensors\n",
    "        X_train = torch.from_numpy(X_train).type(torch.Tensor)\n",
    "        X_test = torch.from_numpy(X_test).type(torch.Tensor)\n",
    "        y_train = torch.from_numpy(y_train).type(torch.Tensor)\n",
    "        y_test = torch.from_numpy(y_test).type(torch.Tensor)\n",
    "\n",
    "        # Add a feature dimension\n",
    "        X_train = X_train.unsqueeze(-1)  # shape: [batch_size, seq_length, input_dim]\n",
    "        X_test = X_test.unsqueeze(-1)\n",
    "\n",
    "        print(\"Tensors successfully created and dimensions added.\")\n",
    "else:\n",
    "    print(\"Error: No data available for training/testing.\")\n",
    "\n"
   ]
  },
  {
   "cell_type": "markdown",
   "metadata": {},
   "source": [
    "Инициализация модели, функции потерь и оптимизатора"
   ]
  },
  {
   "cell_type": "code",
   "execution_count": 50,
   "metadata": {
    "vscode": {
     "languageId": "shellscript"
    }
   },
   "outputs": [
    {
     "name": "stdout",
     "output_type": "stream",
     "text": [
      "Используемое устройство: mps\n"
     ]
    },
    {
     "ename": "NameError",
     "evalue": "name 'X_train' is not defined",
     "output_type": "error",
     "traceback": [
      "\u001b[0;31m---------------------------------------------------------------------------\u001b[0m",
      "\u001b[0;31mNameError\u001b[0m                                 Traceback (most recent call last)",
      "Cell \u001b[0;32mIn[50], line 16\u001b[0m\n\u001b[1;32m     13\u001b[0m model\u001b[38;5;241m.\u001b[39mto(device)\n\u001b[1;32m     15\u001b[0m \u001b[38;5;66;03m# Перенос данных на устройство\u001b[39;00m\n\u001b[0;32m---> 16\u001b[0m X_train \u001b[38;5;241m=\u001b[39m \u001b[43mX_train\u001b[49m\u001b[38;5;241m.\u001b[39mto(device)\n\u001b[1;32m     17\u001b[0m X_test \u001b[38;5;241m=\u001b[39m X_test\u001b[38;5;241m.\u001b[39mto(device)\n\u001b[1;32m     18\u001b[0m y_train \u001b[38;5;241m=\u001b[39m y_train\u001b[38;5;241m.\u001b[39mto(device)\n",
      "\u001b[0;31mNameError\u001b[0m: name 'X_train' is not defined"
     ]
    }
   ],
   "source": [
    "# Параметры модели\n",
    "input_dim = 2       # textblob_sentiment и vader_sentiment\n",
    "hidden_dim = 32\n",
    "num_layers = 2\n",
    "output_dim = 1      # Цена закрытия\n",
    "\n",
    "# Инициализация модели\n",
    "model = LSTMModel(input_dim, hidden_dim, num_layers, output_dim)\n",
    "\n",
    "# Перенос модели на доступное устройство (GPU если есть, иначе CPU)\n",
    "device = torch.device(\"mps\" if torch.backends.mps.is_available() else \"cpu\")\n",
    "print(f'Используемое устройство: {device}')\n",
    "model.to(device)\n",
    "\n",
    "# Перенос данных на устройство\n",
    "X_train = X_train.to(device)\n",
    "X_test = X_test.to(device)\n",
    "y_train = y_train.to(device)\n",
    "y_test = y_test.to(device)\n",
    "\n",
    "# Определение функции потерь и оптимизатора\n",
    "loss_fn = nn.MSELoss()\n",
    "optimizer = torch.optim.Adam(model.parameters(), lr=0.001)\n"
   ]
  },
  {
   "cell_type": "markdown",
   "metadata": {},
   "source": [
    "Обучение модели"
   ]
  },
  {
   "cell_type": "code",
   "execution_count": 51,
   "metadata": {
    "vscode": {
     "languageId": "shellscript"
    }
   },
   "outputs": [
    {
     "ename": "NameError",
     "evalue": "name 'X_train' is not defined",
     "output_type": "error",
     "traceback": [
      "\u001b[0;31m---------------------------------------------------------------------------\u001b[0m",
      "\u001b[0;31mNameError\u001b[0m                                 Traceback (most recent call last)",
      "Cell \u001b[0;32mIn[51], line 8\u001b[0m\n\u001b[1;32m      5\u001b[0m \u001b[38;5;66;03m# Создание DataLoader для пакетной обработки данных\u001b[39;00m\n\u001b[1;32m      6\u001b[0m \u001b[38;5;28;01mfrom\u001b[39;00m \u001b[38;5;21;01mtorch\u001b[39;00m\u001b[38;5;21;01m.\u001b[39;00m\u001b[38;5;21;01mutils\u001b[39;00m\u001b[38;5;21;01m.\u001b[39;00m\u001b[38;5;21;01mdata\u001b[39;00m \u001b[38;5;28;01mimport\u001b[39;00m TensorDataset, DataLoader\n\u001b[0;32m----> 8\u001b[0m train_data \u001b[38;5;241m=\u001b[39m TensorDataset(\u001b[43mX_train\u001b[49m, y_train)\n\u001b[1;32m      9\u001b[0m train_loader \u001b[38;5;241m=\u001b[39m DataLoader(train_data, shuffle\u001b[38;5;241m=\u001b[39m\u001b[38;5;28;01mTrue\u001b[39;00m, batch_size\u001b[38;5;241m=\u001b[39mbatch_size, num_workers\u001b[38;5;241m=\u001b[39m\u001b[38;5;241m2\u001b[39m)\n\u001b[1;32m     11\u001b[0m \u001b[38;5;66;03m# Обучение модели\u001b[39;00m\n",
      "\u001b[0;31mNameError\u001b[0m: name 'X_train' is not defined"
     ]
    }
   ],
   "source": [
    "# Параметры обучения\n",
    "num_epochs = 100\n",
    "batch_size = 64\n",
    "\n",
    "# Создание DataLoader для пакетной обработки данных\n",
    "from torch.utils.data import TensorDataset, DataLoader\n",
    "\n",
    "train_data = TensorDataset(X_train, y_train)\n",
    "train_loader = DataLoader(train_data, shuffle=True, batch_size=batch_size, num_workers=2)\n",
    "\n",
    "# Обучение модели\n",
    "model.train()\n",
    "loss_history = []\n",
    "\n",
    "for epoch in range(num_epochs):\n",
    "    epoch_loss = 0\n",
    "    for seq, target in train_loader:\n",
    "        # Обнуление градиентов\n",
    "        optimizer.zero_grad()\n",
    "        \n",
    "        # Прогнозирование\n",
    "        y_pred = model(seq)\n",
    "        \n",
    "        # Вычисление потерь\n",
    "        loss = loss_fn(y_pred.squeeze(), target)\n",
    "        \n",
    "        # Обратное распространение ошибки\n",
    "        loss.backward()\n",
    "        \n",
    "        # Обновление весов\n",
    "        optimizer.step()\n",
    "        \n",
    "        epoch_loss += loss.item()\n",
    "    \n",
    "    avg_loss = epoch_loss / len(train_loader)\n",
    "    loss_history.append(avg_loss)\n",
    "    \n",
    "    if (epoch+1) % 10 == 0:\n",
    "        print(f'Epoch {epoch+1}/{num_epochs}, Loss: {avg_loss:.4f}')\n",
    "\n",
    "# Визуализация истории обучения\n",
    "plt.figure(figsize=(10,6))\n",
    "plt.plot(loss_history, label='Training Loss')\n",
    "plt.xlabel('Epoch')\n",
    "plt.ylabel('MSE Loss')\n",
    "plt.title('История обучения модели')\n",
    "plt.legend()\n",
    "plt.show()\n"
   ]
  },
  {
   "cell_type": "markdown",
   "metadata": {},
   "source": [
    "Оценка и визуализация результатов"
   ]
  },
  {
   "cell_type": "code",
   "execution_count": 52,
   "metadata": {
    "vscode": {
     "languageId": "shellscript"
    }
   },
   "outputs": [
    {
     "ename": "NameError",
     "evalue": "name 'X_train' is not defined",
     "output_type": "error",
     "traceback": [
      "\u001b[0;31m---------------------------------------------------------------------------\u001b[0m",
      "\u001b[0;31mNameError\u001b[0m                                 Traceback (most recent call last)",
      "Cell \u001b[0;32mIn[52], line 4\u001b[0m\n\u001b[1;32m      1\u001b[0m model\u001b[38;5;241m.\u001b[39meval()\n\u001b[1;32m      3\u001b[0m \u001b[38;5;28;01mwith\u001b[39;00m torch\u001b[38;5;241m.\u001b[39mno_grad():\n\u001b[0;32m----> 4\u001b[0m     y_train_pred \u001b[38;5;241m=\u001b[39m model(\u001b[43mX_train\u001b[49m)\u001b[38;5;241m.\u001b[39msqueeze()\u001b[38;5;241m.\u001b[39mcpu()\u001b[38;5;241m.\u001b[39mnumpy()\n\u001b[1;32m      5\u001b[0m     y_test_pred \u001b[38;5;241m=\u001b[39m model(X_test)\u001b[38;5;241m.\u001b[39msqueeze()\u001b[38;5;241m.\u001b[39mcpu()\u001b[38;5;241m.\u001b[39mnumpy()\n\u001b[1;32m      7\u001b[0m     y_train_true \u001b[38;5;241m=\u001b[39m y_train\u001b[38;5;241m.\u001b[39mcpu()\u001b[38;5;241m.\u001b[39mnumpy()\n",
      "\u001b[0;31mNameError\u001b[0m: name 'X_train' is not defined"
     ]
    }
   ],
   "source": [
    "model.eval()\n",
    "\n",
    "with torch.no_grad():\n",
    "    y_train_pred = model(X_train).squeeze().cpu().numpy()\n",
    "    y_test_pred = model(X_test).squeeze().cpu().numpy()\n",
    "    \n",
    "    y_train_true = y_train.cpu().numpy()\n",
    "    y_test_true = y_test.cpu().numpy()\n"
   ]
  },
  {
   "cell_type": "markdown",
   "metadata": {},
   "source": [
    "Обратное масштабирование данных"
   ]
  },
  {
   "cell_type": "code",
   "execution_count": 53,
   "metadata": {
    "vscode": {
     "languageId": "shellscript"
    }
   },
   "outputs": [
    {
     "ename": "NameError",
     "evalue": "name 'y_train_pred' is not defined",
     "output_type": "error",
     "traceback": [
      "\u001b[0;31m---------------------------------------------------------------------------\u001b[0m",
      "\u001b[0;31mNameError\u001b[0m                                 Traceback (most recent call last)",
      "Cell \u001b[0;32mIn[53], line 13\u001b[0m\n\u001b[1;32m     10\u001b[0m     \u001b[38;5;66;03m# Возвращаем только Close\u001b[39;00m\n\u001b[1;32m     11\u001b[0m     \u001b[38;5;28;01mreturn\u001b[39;00m inverted[:, \u001b[38;5;241m-\u001b[39m\u001b[38;5;241m1\u001b[39m]\n\u001b[0;32m---> 13\u001b[0m y_train_pred \u001b[38;5;241m=\u001b[39m inverse_transform_close(scaler, \u001b[43my_train_pred\u001b[49m)\n\u001b[1;32m     14\u001b[0m y_test_pred \u001b[38;5;241m=\u001b[39m inverse_transform_close(scaler, y_test_pred)\n\u001b[1;32m     15\u001b[0m y_train_true \u001b[38;5;241m=\u001b[39m inverse_transform_close(scaler, y_train_true)\n",
      "\u001b[0;31mNameError\u001b[0m: name 'y_train_pred' is not defined"
     ]
    }
   ],
   "source": [
    "# Обратное масштабирование данных\n",
    "# Мы масштабировали только Close, поэтому устанавливаем 0 для других признаков\n",
    "def inverse_transform_close(scaler, data):\n",
    "    # Создаем массив с нулями для текстовых признаков\n",
    "    zeros = np.zeros((len(data), 2))\n",
    "    # Объединяем нули с данными для Close\n",
    "    combined = np.concatenate((zeros, data.reshape(-1,1)), axis=1)\n",
    "    # Обратное масштабирование\n",
    "    inverted = scaler.inverse_transform(combined)\n",
    "    # Возвращаем только Close\n",
    "    return inverted[:, -1]\n",
    "\n",
    "y_train_pred = inverse_transform_close(scaler, y_train_pred)\n",
    "y_test_pred = inverse_transform_close(scaler, y_test_pred)\n",
    "y_train_true = inverse_transform_close(scaler, y_train_true)\n",
    "y_test_true = inverse_transform_close(scaler, y_test_true)\n"
   ]
  },
  {
   "cell_type": "markdown",
   "metadata": {},
   "source": [
    "Вычисление метрик оценки модели"
   ]
  },
  {
   "cell_type": "code",
   "execution_count": 54,
   "metadata": {
    "vscode": {
     "languageId": "shellscript"
    }
   },
   "outputs": [
    {
     "ename": "NameError",
     "evalue": "name 'y_train_true' is not defined",
     "output_type": "error",
     "traceback": [
      "\u001b[0;31m---------------------------------------------------------------------------\u001b[0m",
      "\u001b[0;31mNameError\u001b[0m                                 Traceback (most recent call last)",
      "Cell \u001b[0;32mIn[54], line 2\u001b[0m\n\u001b[1;32m      1\u001b[0m \u001b[38;5;66;03m# Вычисление среднеквадратичной ошибки (RMSE) и коэффициента детерминации (R²)\u001b[39;00m\n\u001b[0;32m----> 2\u001b[0m train_rmse \u001b[38;5;241m=\u001b[39m np\u001b[38;5;241m.\u001b[39msqrt(mean_squared_error(\u001b[43my_train_true\u001b[49m, y_train_pred))\n\u001b[1;32m      3\u001b[0m test_rmse \u001b[38;5;241m=\u001b[39m np\u001b[38;5;241m.\u001b[39msqrt(mean_squared_error(y_test_true, y_test_pred))\n\u001b[1;32m      4\u001b[0m train_r2 \u001b[38;5;241m=\u001b[39m r2_score(y_train_true, y_train_pred)\n",
      "\u001b[0;31mNameError\u001b[0m: name 'y_train_true' is not defined"
     ]
    }
   ],
   "source": [
    "# Вычисление среднеквадратичной ошибки (RMSE) и коэффициента детерминации (R²)\n",
    "train_rmse = np.sqrt(mean_squared_error(y_train_true, y_train_pred))\n",
    "test_rmse = np.sqrt(mean_squared_error(y_test_true, y_test_pred))\n",
    "train_r2 = r2_score(y_train_true, y_train_pred)\n",
    "test_r2 = r2_score(y_test_true, y_test_pred)\n",
    "\n",
    "print(f'Train RMSE: {train_rmse:.2f}')\n",
    "print(f'Test RMSE: {test_rmse:.2f}')\n",
    "print(f'Train R²: {train_r2:.2f}')\n",
    "print(f'Test R²: {test_r2:.2f}')\n"
   ]
  },
  {
   "cell_type": "markdown",
   "metadata": {},
   "source": [
    "Визуализация результатов"
   ]
  },
  {
   "cell_type": "code",
   "execution_count": 55,
   "metadata": {
    "vscode": {
     "languageId": "shellscript"
    }
   },
   "outputs": [
    {
     "ename": "NameError",
     "evalue": "name 'y_test_true' is not defined",
     "output_type": "error",
     "traceback": [
      "\u001b[0;31m---------------------------------------------------------------------------\u001b[0m",
      "\u001b[0;31mNameError\u001b[0m                                 Traceback (most recent call last)",
      "Cell \u001b[0;32mIn[55], line 3\u001b[0m\n\u001b[1;32m      1\u001b[0m \u001b[38;5;66;03m# Визуализация реальных и прогнозируемых цен закрытия\u001b[39;00m\n\u001b[1;32m      2\u001b[0m plt\u001b[38;5;241m.\u001b[39mfigure(figsize\u001b[38;5;241m=\u001b[39m(\u001b[38;5;241m15\u001b[39m,\u001b[38;5;241m6\u001b[39m))\n\u001b[0;32m----> 3\u001b[0m plt\u001b[38;5;241m.\u001b[39mplot(\u001b[43my_test_true\u001b[49m, label\u001b[38;5;241m=\u001b[39m\u001b[38;5;124m'\u001b[39m\u001b[38;5;124mReal Stock Price\u001b[39m\u001b[38;5;124m'\u001b[39m, color\u001b[38;5;241m=\u001b[39m\u001b[38;5;124m'\u001b[39m\u001b[38;5;124mred\u001b[39m\u001b[38;5;124m'\u001b[39m)\n\u001b[1;32m      4\u001b[0m plt\u001b[38;5;241m.\u001b[39mplot(y_test_pred, label\u001b[38;5;241m=\u001b[39m\u001b[38;5;124m'\u001b[39m\u001b[38;5;124mPredicted Stock Price\u001b[39m\u001b[38;5;124m'\u001b[39m, color\u001b[38;5;241m=\u001b[39m\u001b[38;5;124m'\u001b[39m\u001b[38;5;124mblue\u001b[39m\u001b[38;5;124m'\u001b[39m)\n\u001b[1;32m      5\u001b[0m plt\u001b[38;5;241m.\u001b[39mtitle(\u001b[38;5;124mf\u001b[39m\u001b[38;5;124m'\u001b[39m\u001b[38;5;132;01m{\u001b[39;00mselected_ticker\u001b[38;5;132;01m}\u001b[39;00m\u001b[38;5;124m Stock Price Prediction\u001b[39m\u001b[38;5;124m'\u001b[39m)\n",
      "\u001b[0;31mNameError\u001b[0m: name 'y_test_true' is not defined"
     ]
    },
    {
     "data": {
      "text/plain": [
       "<Figure size 1500x600 with 0 Axes>"
      ]
     },
     "metadata": {},
     "output_type": "display_data"
    }
   ],
   "source": [
    "# Визуализация реальных и прогнозируемых цен закрытия\n",
    "plt.figure(figsize=(15,6))\n",
    "plt.plot(y_test_true, label='Real Stock Price', color='red')\n",
    "plt.plot(y_test_pred, label='Predicted Stock Price', color='blue')\n",
    "plt.title(f'{selected_ticker} Stock Price Prediction')\n",
    "plt.xlabel('Time')\n",
    "plt.ylabel('Stock Price')\n",
    "plt.legend()\n",
    "plt.show()\n"
   ]
  },
  {
   "cell_type": "markdown",
   "metadata": {},
   "source": [
    "Сохранение и загрузка модели"
   ]
  },
  {
   "cell_type": "code",
   "execution_count": 56,
   "metadata": {
    "vscode": {
     "languageId": "shellscript"
    }
   },
   "outputs": [
    {
     "name": "stdout",
     "output_type": "stream",
     "text": [
      "Модель сохранена в lstm_stock_model.pth\n"
     ]
    }
   ],
   "source": [
    "def save_model(model, scaler, filename='lstm_stock_model.pth'):\n",
    "    torch.save({\n",
    "        'model_state_dict': model.state_dict(),\n",
    "        'scaler': scaler\n",
    "    }, filename)\n",
    "    print(f\"Модель сохранена в {filename}\")\n",
    "\n",
    "def load_model(filename='lstm_stock_model.pth'):\n",
    "    checkpoint = torch.load(filename, map_location=device)\n",
    "    model = LSTMModel(input_dim=2, hidden_dim=32, num_layers=2, output_dim=1)\n",
    "    model.load_state_dict(checkpoint['model_state_dict'])\n",
    "    model.to(device)\n",
    "    model.eval()\n",
    "    scaler = checkpoint['scaler']\n",
    "    return model, scaler\n",
    "\n",
    "# Сохранение модели и масштабатора\n",
    "save_model(model, scaler)\n"
   ]
  },
  {
   "cell_type": "markdown",
   "metadata": {},
   "source": [
    "Загрузка модели"
   ]
  },
  {
   "cell_type": "code",
   "execution_count": 57,
   "metadata": {
    "vscode": {
     "languageId": "shellscript"
    }
   },
   "outputs": [
    {
     "name": "stderr",
     "output_type": "stream",
     "text": [
      "/var/folders/3t/wpr0ww392s9g047bjxclrsjr0000gn/T/ipykernel_84000/1146372533.py:9: FutureWarning: You are using `torch.load` with `weights_only=False` (the current default value), which uses the default pickle module implicitly. It is possible to construct malicious pickle data which will execute arbitrary code during unpickling (See https://github.com/pytorch/pytorch/blob/main/SECURITY.md#untrusted-models for more details). In a future release, the default value for `weights_only` will be flipped to `True`. This limits the functions that could be executed during unpickling. Arbitrary objects will no longer be allowed to be loaded via this mode unless they are explicitly allowlisted by the user via `torch.serialization.add_safe_globals`. We recommend you start setting `weights_only=True` for any use case where you don't have full control of the loaded file. Please open an issue on GitHub for any issues related to this experimental feature.\n",
      "  checkpoint = torch.load(filename, map_location=device)\n"
     ]
    },
    {
     "ename": "NameError",
     "evalue": "name 'X_test' is not defined",
     "output_type": "error",
     "traceback": [
      "\u001b[0;31m---------------------------------------------------------------------------\u001b[0m",
      "\u001b[0;31mNameError\u001b[0m                                 Traceback (most recent call last)",
      "Cell \u001b[0;32mIn[57], line 8\u001b[0m\n\u001b[1;32m      5\u001b[0m loaded_model\u001b[38;5;241m.\u001b[39meval()\n\u001b[1;32m      7\u001b[0m \u001b[38;5;28;01mwith\u001b[39;00m torch\u001b[38;5;241m.\u001b[39mno_grad():\n\u001b[0;32m----> 8\u001b[0m     y_test_pred_loaded \u001b[38;5;241m=\u001b[39m loaded_model(\u001b[43mX_test\u001b[49m)\u001b[38;5;241m.\u001b[39msqueeze()\u001b[38;5;241m.\u001b[39mcpu()\u001b[38;5;241m.\u001b[39mnumpy()\n\u001b[1;32m     10\u001b[0m y_test_pred_loaded \u001b[38;5;241m=\u001b[39m inverse_transform_close(loaded_scaler, y_test_pred_loaded)\n",
      "\u001b[0;31mNameError\u001b[0m: name 'X_test' is not defined"
     ]
    }
   ],
   "source": [
    "# Загрузка модели и масштабатора\n",
    "loaded_model, loaded_scaler = load_model('lstm_stock_model.pth')\n",
    "\n",
    "# Пример использования загруженной модели для прогнозирования\n",
    "loaded_model.eval()\n",
    "\n",
    "with torch.no_grad():\n",
    "    y_test_pred_loaded = loaded_model(X_test).squeeze().cpu().numpy()\n",
    "\n",
    "y_test_pred_loaded = inverse_transform_close(loaded_scaler, y_test_pred_loaded)\n"
   ]
  },
  {
   "cell_type": "markdown",
   "metadata": {},
   "source": [
    "Вычисление корреляции между настроениями и ценой акций"
   ]
  },
  {
   "cell_type": "code",
   "execution_count": 58,
   "metadata": {
    "vscode": {
     "languageId": "shellscript"
    }
   },
   "outputs": [
    {
     "name": "stdout",
     "output_type": "stream",
     "text": [
      "Корреляция TextBlob с ценой закрытия: 1.00\n",
      "Корреляция VADER с ценой закрытия: 1.00\n"
     ]
    }
   ],
   "source": [
    "# Вычисление корреляции между настроениями и ценой закрытия\n",
    "correlation_textblob = merged_df['textblob_sentiment'].corr(merged_df['Close'])\n",
    "correlation_vader = merged_df['vader_sentiment'].corr(merged_df['Close'])\n",
    "\n",
    "print(f'Корреляция TextBlob с ценой закрытия: {correlation_textblob:.2f}')\n",
    "print(f'Корреляция VADER с ценой закрытия: {correlation_vader:.2f}')\n"
   ]
  },
  {
   "cell_type": "markdown",
   "metadata": {},
   "source": [
    "Визуализация корреляции"
   ]
  },
  {
   "cell_type": "code",
   "execution_count": 59,
   "metadata": {
    "vscode": {
     "languageId": "shellscript"
    }
   },
   "outputs": [
    {
     "data": {
      "image/png": "[encoded data removed]",
      "text/plain": [
       "<Figure size 800x600 with 2 Axes>"
      ]
     },
     "metadata": {},
     "output_type": "display_data"
    }
   ],
   "source": [
    "# Визуализация корреляции\n",
    "plt.figure(figsize=(8,6))\n",
    "sns.heatmap(merged_df[['textblob_sentiment', 'vader_sentiment', 'Close']].corr(), annot=True, cmap='coolwarm')\n",
    "plt.title('Корреляция между настроениями и ценами акций')\n",
    "plt.show()\n"
   ]
  }
 ],
 "metadata": {
  "kernelspec": {
   "display_name": "venv",
   "language": "python",
   "name": "python3"
  },
  "language_info": {
   "codemirror_mode": {
    "name": "ipython",
    "version": 3
   },
   "file_extension": ".py",
   "mimetype": "text/x-python",
   "name": "python",
   "nbconvert_exporter": "python",
   "pygments_lexer": "ipython3",
   "version": "3.12.6"
  }
 },
 "nbformat": 4,
 "nbformat_minor": 2
}
